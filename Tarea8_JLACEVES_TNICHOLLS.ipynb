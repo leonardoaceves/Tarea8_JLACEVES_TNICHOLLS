{
 "cells": [
  {
   "cell_type": "markdown",
   "metadata": {},
   "source": [
    "<img style=\"float: left; margin: 30px 15px 15px 15px;\" src=\"https://pngimage.net/wp-content/uploads/2018/06/logo-iteso-png-5.png\" width=\"300\" height=\"500\" /> \n",
    "    \n",
    "    \n",
    "### <font color='navy'> Simulación de procesos financieros. \n",
    "\n",
    "**Nombres:** José Leonardo Aceves y Tania Bell Nicholls\n",
    "\n",
    "**Fecha:** 23 de noviembre 2021.\n",
    "\n",
    "**Expediente** : IF712626 y IF726767.\n",
    "**Profesor:** Oscar David Jaramillo Zuluaga.\n",
    "    \n",
    "**Link Github**: https://github.com/leonardoaceves/Tarea8_JLACEVES_TNICHOLLS.git\n",
    "\n",
    "# Tarea 8: Clase 22"
   ]
  },
  {
   "cell_type": "markdown",
   "metadata": {},
   "source": [
    "Replicar el procedimiento anterior para valoración de opciones 'call', pero en este caso para opciones tipo 'put' y además deben de comparar con los resultados teoricos del método de valuación de Black-Scholes (ecuación del principio de clase)"
   ]
  },
  {
   "cell_type": "markdown",
   "metadata": {},
   "source": [
    "Código de solucion, Leonardo Aceves"
   ]
  },
  {
   "cell_type": "code",
   "execution_count": 2,
   "metadata": {},
   "outputs": [],
   "source": [
    "#Paqueterias\n",
    "import pandas as pd\n",
    "import pandas_datareader.data as web\n",
    "import numpy as np\n",
    "import datetime\n",
    "import matplotlib.pyplot as plt\n",
    "import scipy.stats as st\n",
    "import seaborn as sns\n",
    "import yfinance as yf\n",
    "from datetime import date\n",
    "\n",
    "%matplotlib inline\n",
    "#algunas opciones para Pandas\n",
    "pd.set_option('display.notebook_repr_html', True)\n",
    "pd.set_option('display.max_columns', 6)\n",
    "pd.set_option('display.max_rows', 10)\n",
    "pd.set_option('display.width', 78)\n",
    "pd.set_option('precision', 3)"
   ]
  },
  {
   "cell_type": "code",
   "execution_count": 35,
   "metadata": {
    "scrolled": true
   },
   "outputs": [],
   "source": [
    "def options_yf(ticker):\n",
    "    stock = yf.Ticker(ticker)\n",
    "    calls, puts = stock.option_chain(stock.options[0]) \n",
    "    return calls, puts\n",
    "c, p = options_yf(\"APPL\")"
   ]
  },
  {
   "cell_type": "code",
   "execution_count": null,
   "metadata": {},
   "outputs": [],
   "source": [
    "aapl = web.YahooOptions('AAPL')\n",
    "aapl_opt = aapl.get_all_data().reset_index()\n",
    "aapl_opt.set_index('Expiry')\n",
    "aapl_opt.Underlying_Price[0]"
   ]
  },
  {
   "cell_type": "code",
   "execution_count": null,
   "metadata": {},
   "outputs": [],
   "source": [
    "aapl_opt.loc[0, 'JSON']"
   ]
  },
  {
   "cell_type": "code",
   "execution_count": null,
   "metadata": {},
   "outputs": [],
   "source": [
    "fecha1 = '2021-06-18'\n",
    "fecha2 = '2022-09-16'\n",
    "put06_f1 = aapl_opt.loc[(aapl_opt.Expiry==fecha1) & (aapl_opt.Type=='put')]\n",
    "ax = put06_f1.set_index('Strike').loc[:, 'IV'].plot(figsize=(8,6))\n",
    "ax.axvline(put06_f1.Underlying_Price.iloc[0], color='g')"
   ]
  },
  {
   "cell_type": "code",
   "execution_count": null,
   "metadata": {},
   "outputs": [],
   "source": []
  },
  {
   "cell_type": "code",
   "execution_count": null,
   "metadata": {},
   "outputs": [],
   "source": []
  },
  {
   "cell_type": "code",
   "execution_count": null,
   "metadata": {},
   "outputs": [],
   "source": []
  },
  {
   "cell_type": "code",
   "execution_count": null,
   "metadata": {},
   "outputs": [],
   "source": []
  },
  {
   "cell_type": "markdown",
   "metadata": {},
   "source": [
    "# Código de solución estudiante 2: Tania Bell"
   ]
  },
  {
   "cell_type": "markdown",
   "metadata": {},
   "source": [
    "### Importación de closes y opciones"
   ]
  },
  {
   "cell_type": "code",
   "execution_count": 56,
   "metadata": {},
   "outputs": [],
   "source": [
    "# Función para descargar precios de cierre ajustados:\n",
    "def get_adj_closes(tickers, start_date=None, end_date=None):\n",
    "    '''\n",
    "    Función que accede a los datos en yahoo dado tickers y la fecha de inicio y la fecha final\n",
    "    '''\n",
    "    # Fecha inicio por defecto (start_date='2010-01-01') y fecha fin por defecto (end_date=today)\n",
    "    # Descargamos DataFrame con todos los datos\n",
    "    closes = web.DataReader(name=tickers, data_source='yahoo', start=start_date, end=end_date)\n",
    "    # Solo necesitamos los precios ajustados en el cierre\n",
    "    closes = closes['Adj Close']\n",
    "    # Se ordenan los índices de manera ascendente\n",
    "    closes.sort_index(inplace=True)\n",
    "    return closes\n",
    "\n",
    "# Función para cálcular los rendimientos diarios\n",
    "def calc_daily_ret(closes):\n",
    "    '''\n",
    "    Función para calcular los rendimientos diarios de cierres de acciones\n",
    "    '''\n",
    "    return np.log(closes/closes.shift(1)).iloc[1:]\n",
    "\n",
    "# Función opciones\n",
    "def options_chain(symbol):\n",
    "    '''\n",
    "    Función que obtiene los datos de yahoo finance usando yfinance dando un ticker\n",
    "    '''\n",
    "    tk = yf.Ticker(symbol)\n",
    "    # Expiration dates\n",
    "    exps = tk.options\n",
    "\n",
    "    # Get options for each expiration\n",
    "    options = pd.DataFrame()\n",
    "    for e in exps:\n",
    "        opt = tk.option_chain(e)\n",
    "        opt = pd.DataFrame().append(opt.calls).append(opt.puts)\n",
    "        opt['expirationDate'] = e\n",
    "        options = options.append(opt, ignore_index=True)\n",
    "\n",
    "    # Bizarre error in yfinance that gives the wrong expiration date\n",
    "    # Add 1 day to get the correct expiration date\n",
    "    options['expirationDate'] = pd.to_datetime(options['expirationDate']) + datetime.timedelta(days = 1)\n",
    "    options['dte'] = (options['expirationDate'] - datetime.datetime.today()).dt.days / 365\n",
    "    \n",
    "    # Boolean column if the option is a CALL\n",
    "    options['CALL'] = options['contractSymbol'].str[4:].apply(\n",
    "        lambda x: \"C\" in x)\n",
    "    \n",
    "    options[['bid', 'ask', 'strike']] = options[['bid', 'ask', 'strike']].apply(pd.to_numeric)\n",
    "    options['mark'] = (options['bid'] + options['ask']) / 2 # Calculate the midpoint of the bid-ask\n",
    "    \n",
    "    # Drop unnecessary and meaningless columns\n",
    "    options = options.drop(columns = ['contractSize', 'currency', 'change', 'percentChange', 'lastTradeDate', 'lastPrice'])\n",
    "\n",
    "    return options"
   ]
  },
  {
   "cell_type": "code",
   "execution_count": 4,
   "metadata": {},
   "outputs": [
    {
     "data": {
      "image/png": "[encoded data removed]",
      "text/plain": [
       "<Figure size 576x360 with 1 Axes>"
      ]
     },
     "metadata": {
      "needs_background": "light"
     },
     "output_type": "display_data"
    }
   ],
   "source": [
    "# importamos cierres diarios de la empresa\n",
    "ticker = ['AAPL']\n",
    "start_date = '2016-01-01'\n",
    "\n",
    "closes_aapl = get_adj_closes(ticker, start_date)\n",
    "closes_aapl.plot(figsize=(8,5));\n",
    "plt.legend(ticker);"
   ]
  },
  {
   "cell_type": "code",
   "execution_count": 5,
   "metadata": {},
   "outputs": [
    {
     "data": {
      "text/plain": [
       "Symbols\n",
       "AAPL    161.41\n",
       "Name: 2021-11-23 00:00:00, dtype: float64"
      ]
     },
     "execution_count": 5,
     "metadata": {},
     "output_type": "execute_result"
    }
   ],
   "source": [
    "#ultimo cierre de la empresa\n",
    "closes_aapl.iloc[-1]"
   ]
  },
  {
   "cell_type": "code",
   "execution_count": 7,
   "metadata": {},
   "outputs": [
    {
     "data": {
      "image/png": "[encoded data removed]",
      "text/plain": [
       "<Figure size 576x432 with 1 Axes>"
      ]
     },
     "metadata": {
      "needs_background": "light"
     },
     "output_type": "display_data"
    }
   ],
   "source": [
    "# calculamos los rendimientos diarios\n",
    "ret_aapl = calc_daily_ret(closes_aapl)\n",
    "ret_aapl.plot(figsize=(8,6));"
   ]
  },
  {
   "cell_type": "code",
   "execution_count": 9,
   "metadata": {},
   "outputs": [
    {
     "data": {
      "text/html": [
       "<div>\n",
       "<style scoped>\n",
       "    .dataframe tbody tr th:only-of-type {\n",
       "        vertical-align: middle;\n",
       "    }\n",
       "\n",
       "    .dataframe tbody tr th {\n",
       "        vertical-align: top;\n",
       "    }\n",
       "\n",
       "    .dataframe thead th {\n",
       "        text-align: right;\n",
       "    }\n",
       "</style>\n",
       "<table border=\"1\" class=\"dataframe\">\n",
       "  <thead>\n",
       "    <tr style=\"text-align: right;\">\n",
       "      <th></th>\n",
       "      <th>contractSymbol</th>\n",
       "      <th>strike</th>\n",
       "      <th>bid</th>\n",
       "      <th>...</th>\n",
       "      <th>dte</th>\n",
       "      <th>CALL</th>\n",
       "      <th>mark</th>\n",
       "    </tr>\n",
       "  </thead>\n",
       "  <tbody>\n",
       "    <tr>\n",
       "      <th>0</th>\n",
       "      <td>AAPL211126C00075000</td>\n",
       "      <td>75.0</td>\n",
       "      <td>86.00</td>\n",
       "      <td>...</td>\n",
       "      <td>0.008</td>\n",
       "      <td>True</td>\n",
       "      <td>86.475</td>\n",
       "    </tr>\n",
       "    <tr>\n",
       "      <th>1</th>\n",
       "      <td>AAPL211126C00080000</td>\n",
       "      <td>80.0</td>\n",
       "      <td>81.35</td>\n",
       "      <td>...</td>\n",
       "      <td>0.008</td>\n",
       "      <td>True</td>\n",
       "      <td>81.650</td>\n",
       "    </tr>\n",
       "    <tr>\n",
       "      <th>2</th>\n",
       "      <td>AAPL211126C00085000</td>\n",
       "      <td>85.0</td>\n",
       "      <td>76.20</td>\n",
       "      <td>...</td>\n",
       "      <td>0.008</td>\n",
       "      <td>True</td>\n",
       "      <td>76.425</td>\n",
       "    </tr>\n",
       "    <tr>\n",
       "      <th>3</th>\n",
       "      <td>AAPL211126C00090000</td>\n",
       "      <td>90.0</td>\n",
       "      <td>71.20</td>\n",
       "      <td>...</td>\n",
       "      <td>0.008</td>\n",
       "      <td>True</td>\n",
       "      <td>71.625</td>\n",
       "    </tr>\n",
       "    <tr>\n",
       "      <th>4</th>\n",
       "      <td>AAPL211126C00095000</td>\n",
       "      <td>95.0</td>\n",
       "      <td>66.15</td>\n",
       "      <td>...</td>\n",
       "      <td>0.008</td>\n",
       "      <td>True</td>\n",
       "      <td>66.425</td>\n",
       "    </tr>\n",
       "    <tr>\n",
       "      <th>...</th>\n",
       "      <td>...</td>\n",
       "      <td>...</td>\n",
       "      <td>...</td>\n",
       "      <td>...</td>\n",
       "      <td>...</td>\n",
       "      <td>...</td>\n",
       "      <td>...</td>\n",
       "    </tr>\n",
       "    <tr>\n",
       "      <th>1928</th>\n",
       "      <td>AAPL240119P00235000</td>\n",
       "      <td>235.0</td>\n",
       "      <td>78.00</td>\n",
       "      <td>...</td>\n",
       "      <td>2.156</td>\n",
       "      <td>False</td>\n",
       "      <td>80.500</td>\n",
       "    </tr>\n",
       "    <tr>\n",
       "      <th>1929</th>\n",
       "      <td>AAPL240119P00240000</td>\n",
       "      <td>240.0</td>\n",
       "      <td>82.50</td>\n",
       "      <td>...</td>\n",
       "      <td>2.156</td>\n",
       "      <td>False</td>\n",
       "      <td>85.000</td>\n",
       "    </tr>\n",
       "    <tr>\n",
       "      <th>1930</th>\n",
       "      <td>AAPL240119P00245000</td>\n",
       "      <td>245.0</td>\n",
       "      <td>87.00</td>\n",
       "      <td>...</td>\n",
       "      <td>2.156</td>\n",
       "      <td>False</td>\n",
       "      <td>89.500</td>\n",
       "    </tr>\n",
       "    <tr>\n",
       "      <th>1931</th>\n",
       "      <td>AAPL240119P00250000</td>\n",
       "      <td>250.0</td>\n",
       "      <td>91.50</td>\n",
       "      <td>...</td>\n",
       "      <td>2.156</td>\n",
       "      <td>False</td>\n",
       "      <td>93.750</td>\n",
       "    </tr>\n",
       "    <tr>\n",
       "      <th>1932</th>\n",
       "      <td>AAPL240119P00260000</td>\n",
       "      <td>260.0</td>\n",
       "      <td>100.50</td>\n",
       "      <td>...</td>\n",
       "      <td>2.156</td>\n",
       "      <td>False</td>\n",
       "      <td>102.750</td>\n",
       "    </tr>\n",
       "  </tbody>\n",
       "</table>\n",
       "<p>1933 rows × 12 columns</p>\n",
       "</div>"
      ],
      "text/plain": [
       "           contractSymbol  strike     bid  ...    dte   CALL     mark\n",
       "0     AAPL211126C00075000    75.0   86.00  ...  0.008   True   86.475\n",
       "1     AAPL211126C00080000    80.0   81.35  ...  0.008   True   81.650\n",
       "2     AAPL211126C00085000    85.0   76.20  ...  0.008   True   76.425\n",
       "3     AAPL211126C00090000    90.0   71.20  ...  0.008   True   71.625\n",
       "4     AAPL211126C00095000    95.0   66.15  ...  0.008   True   66.425\n",
       "...                   ...     ...     ...  ...    ...    ...      ...\n",
       "1928  AAPL240119P00235000   235.0   78.00  ...  2.156  False   80.500\n",
       "1929  AAPL240119P00240000   240.0   82.50  ...  2.156  False   85.000\n",
       "1930  AAPL240119P00245000   245.0   87.00  ...  2.156  False   89.500\n",
       "1931  AAPL240119P00250000   250.0   91.50  ...  2.156  False   93.750\n",
       "1932  AAPL240119P00260000   260.0  100.50  ...  2.156  False  102.750\n",
       "\n",
       "[1933 rows x 12 columns]"
      ]
     },
     "execution_count": 9,
     "metadata": {},
     "output_type": "execute_result"
    }
   ],
   "source": [
    "#importamos información de opciones de la empresa para escoger nuestro put\n",
    "aapl_opt = options_chain('AAPL')\n",
    "#aapl_opt = aapl_opt.set_index('expirationDate').sort_index()\n",
    "aapl_opt"
   ]
  },
  {
   "cell_type": "code",
   "execution_count": 11,
   "metadata": {},
   "outputs": [
    {
     "data": {
      "text/html": [
       "<div>\n",
       "<style scoped>\n",
       "    .dataframe tbody tr th:only-of-type {\n",
       "        vertical-align: middle;\n",
       "    }\n",
       "\n",
       "    .dataframe tbody tr th {\n",
       "        vertical-align: top;\n",
       "    }\n",
       "\n",
       "    .dataframe thead th {\n",
       "        text-align: right;\n",
       "    }\n",
       "</style>\n",
       "<table border=\"1\" class=\"dataframe\">\n",
       "  <thead>\n",
       "    <tr style=\"text-align: right;\">\n",
       "      <th></th>\n",
       "      <th>contractSymbol</th>\n",
       "      <th>strike</th>\n",
       "      <th>bid</th>\n",
       "      <th>...</th>\n",
       "      <th>dte</th>\n",
       "      <th>CALL</th>\n",
       "      <th>mark</th>\n",
       "    </tr>\n",
       "  </thead>\n",
       "  <tbody>\n",
       "    <tr>\n",
       "      <th>426</th>\n",
       "      <td>AAPL211223P00175000</td>\n",
       "      <td>175.0</td>\n",
       "      <td>14.5</td>\n",
       "      <td>...</td>\n",
       "      <td>0.082</td>\n",
       "      <td>False</td>\n",
       "      <td>14.6</td>\n",
       "    </tr>\n",
       "  </tbody>\n",
       "</table>\n",
       "<p>1 rows × 12 columns</p>\n",
       "</div>"
      ],
      "text/plain": [
       "          contractSymbol  strike   bid  ...    dte   CALL  mark\n",
       "426  AAPL211223P00175000   175.0  14.5  ...  0.082  False  14.6\n",
       "\n",
       "[1 rows x 12 columns]"
      ]
     },
     "execution_count": 11,
     "metadata": {},
     "output_type": "execute_result"
    }
   ],
   "source": [
    "# opción que quiero evaluar\n",
    "K = 175.0 # strike price\n",
    "indice_opt = aapl_opt.loc[(aapl_opt.CALL==False) & (aapl_opt.strike==K) &(aapl_opt.expirationDate=='2021-12-24')]\n",
    "indice_opt"
   ]
  },
  {
   "cell_type": "code",
   "execution_count": 12,
   "metadata": {},
   "outputs": [
    {
     "data": {
      "text/plain": [
       "contractSymbol    AAPL211223P00175000\n",
       "strike                          175.0\n",
       "bid                              14.5\n",
       "ask                              14.7\n",
       "volume                            7.0\n",
       "                         ...         \n",
       "inTheMoney                       True\n",
       "expirationDate    2021-12-24 00:00:00\n",
       "dte                             0.082\n",
       "CALL                            False\n",
       "mark                             14.6\n",
       "Name: 426, Length: 12, dtype: object"
      ]
     },
     "execution_count": 12,
     "metadata": {},
     "output_type": "execute_result"
    }
   ],
   "source": [
    "# información de opción elegida\n",
    "i_opt= indice_opt.index\n",
    "opcion_valuar = aapl_opt.loc[i_opt[0]]\n",
    "opcion_valuar"
   ]
  },
  {
   "cell_type": "markdown",
   "metadata": {},
   "source": [
    "## Simulación de precios"
   ]
  },
  {
   "cell_type": "code",
   "execution_count": 13,
   "metadata": {},
   "outputs": [
    {
     "data": {
      "text/html": [
       "<div>\n",
       "<style scoped>\n",
       "    .dataframe tbody tr th:only-of-type {\n",
       "        vertical-align: middle;\n",
       "    }\n",
       "\n",
       "    .dataframe tbody tr th {\n",
       "        vertical-align: top;\n",
       "    }\n",
       "\n",
       "    .dataframe thead th {\n",
       "        text-align: right;\n",
       "    }\n",
       "</style>\n",
       "<table border=\"1\" class=\"dataframe\">\n",
       "  <thead>\n",
       "    <tr style=\"text-align: right;\">\n",
       "      <th>Symbols</th>\n",
       "      <th>AAPL</th>\n",
       "    </tr>\n",
       "    <tr>\n",
       "      <th>Date</th>\n",
       "      <th></th>\n",
       "    </tr>\n",
       "  </thead>\n",
       "  <tbody>\n",
       "    <tr>\n",
       "      <th>2016-01-05</th>\n",
       "      <td>-0.025</td>\n",
       "    </tr>\n",
       "    <tr>\n",
       "      <th>2016-01-06</th>\n",
       "      <td>-0.020</td>\n",
       "    </tr>\n",
       "    <tr>\n",
       "      <th>2016-01-07</th>\n",
       "      <td>-0.042</td>\n",
       "    </tr>\n",
       "    <tr>\n",
       "      <th>2016-01-08</th>\n",
       "      <td>0.005</td>\n",
       "    </tr>\n",
       "    <tr>\n",
       "      <th>2016-01-11</th>\n",
       "      <td>0.016</td>\n",
       "    </tr>\n",
       "    <tr>\n",
       "      <th>...</th>\n",
       "      <td>...</td>\n",
       "    </tr>\n",
       "    <tr>\n",
       "      <th>2021-11-17</th>\n",
       "      <td>0.016</td>\n",
       "    </tr>\n",
       "    <tr>\n",
       "      <th>2021-11-18</th>\n",
       "      <td>0.029</td>\n",
       "    </tr>\n",
       "    <tr>\n",
       "      <th>2021-11-19</th>\n",
       "      <td>0.017</td>\n",
       "    </tr>\n",
       "    <tr>\n",
       "      <th>2021-11-22</th>\n",
       "      <td>0.003</td>\n",
       "    </tr>\n",
       "    <tr>\n",
       "      <th>2021-11-23</th>\n",
       "      <td>0.002</td>\n",
       "    </tr>\n",
       "  </tbody>\n",
       "</table>\n",
       "<p>1484 rows × 1 columns</p>\n",
       "</div>"
      ],
      "text/plain": [
       "Symbols      AAPL\n",
       "Date             \n",
       "2016-01-05 -0.025\n",
       "2016-01-06 -0.020\n",
       "2016-01-07 -0.042\n",
       "2016-01-08  0.005\n",
       "2016-01-11  0.016\n",
       "...           ...\n",
       "2021-11-17  0.016\n",
       "2021-11-18  0.029\n",
       "2021-11-19  0.017\n",
       "2021-11-22  0.003\n",
       "2021-11-23  0.002\n",
       "\n",
       "[1484 rows x 1 columns]"
      ]
     },
     "execution_count": 13,
     "metadata": {},
     "output_type": "execute_result"
    }
   ],
   "source": [
    "# rendimiento simple en dataframe\n",
    "Ri = closes_aapl.pct_change(1).iloc[1:]\n",
    "# Obtenemos su media y desviación estándar de los rendimientos\n",
    "mu_R = Ri.mean()[0]\n",
    "sigma_R = Ri.std()[0]\n",
    "Ri"
   ]
  },
  {
   "cell_type": "code",
   "execution_count": 14,
   "metadata": {},
   "outputs": [
    {
     "data": {
      "text/plain": [
       "(DatetimeIndex(['2021-11-23', '2021-11-24', '2021-11-25', '2021-11-26',\n",
       "                '2021-11-29', '2021-11-30', '2021-12-01', '2021-12-02',\n",
       "                '2021-12-03', '2021-12-06', '2021-12-07', '2021-12-08',\n",
       "                '2021-12-09', '2021-12-10', '2021-12-13', '2021-12-14',\n",
       "                '2021-12-15', '2021-12-16', '2021-12-17', '2021-12-20',\n",
       "                '2021-12-21', '2021-12-22', '2021-12-23', '2021-12-24',\n",
       "                '2021-12-27', '2021-12-28', '2021-12-29', '2021-12-30',\n",
       "                '2021-12-31', '2022-01-03', '2022-01-04', '2022-01-05',\n",
       "                '2022-01-06', '2022-01-07', '2022-01-10', '2022-01-11',\n",
       "                '2022-01-12', '2022-01-13', '2022-01-14', '2022-01-17',\n",
       "                '2022-01-18', '2022-01-19', '2022-01-20', '2022-01-21',\n",
       "                '2022-01-24', '2022-01-25', '2022-01-26', '2022-01-27',\n",
       "                '2022-01-28', '2022-01-31', '2022-02-01', '2022-02-02',\n",
       "                '2022-02-03', '2022-02-04', '2022-02-07', '2022-02-08',\n",
       "                '2022-02-09', '2022-02-10', '2022-02-11', '2022-02-14',\n",
       "                '2022-02-15', '2022-02-16', '2022-02-17', '2022-02-18'],\n",
       "               dtype='datetime64[ns]', freq='B'),\n",
       " 64)"
      ]
     },
     "execution_count": 14,
     "metadata": {},
     "output_type": "execute_result"
    }
   ],
   "source": [
    "today = pd.Timestamp(date.today())\n",
    "expiry = '2022-02-18'\n",
    "\n",
    "nscen = 10000\n",
    "dates = pd.date_range(start=today, end=expiry, freq='B')\n",
    "ndays = len(dates)\n",
    "dates, ndays"
   ]
  },
  {
   "cell_type": "markdown",
   "metadata": {},
   "source": [
    "### Simular precios usando rendimiento"
   ]
  },
  {
   "cell_type": "code",
   "execution_count": 15,
   "metadata": {},
   "outputs": [
    {
     "data": {
      "text/html": [
       "<div>\n",
       "<style scoped>\n",
       "    .dataframe tbody tr th:only-of-type {\n",
       "        vertical-align: middle;\n",
       "    }\n",
       "\n",
       "    .dataframe tbody tr th {\n",
       "        vertical-align: top;\n",
       "    }\n",
       "\n",
       "    .dataframe thead th {\n",
       "        text-align: right;\n",
       "    }\n",
       "</style>\n",
       "<table border=\"1\" class=\"dataframe\">\n",
       "  <thead>\n",
       "    <tr style=\"text-align: right;\">\n",
       "      <th></th>\n",
       "      <th>0</th>\n",
       "      <th>1</th>\n",
       "      <th>2</th>\n",
       "      <th>...</th>\n",
       "      <th>9997</th>\n",
       "      <th>9998</th>\n",
       "      <th>9999</th>\n",
       "    </tr>\n",
       "  </thead>\n",
       "  <tbody>\n",
       "    <tr>\n",
       "      <th>2021-11-23</th>\n",
       "      <td>-1.682e-03</td>\n",
       "      <td>6.874e-04</td>\n",
       "      <td>9.239e-03</td>\n",
       "      <td>...</td>\n",
       "      <td>-1.070e-02</td>\n",
       "      <td>1.479e-03</td>\n",
       "      <td>2.719e-03</td>\n",
       "    </tr>\n",
       "    <tr>\n",
       "      <th>2021-11-24</th>\n",
       "      <td>-3.285e-06</td>\n",
       "      <td>1.256e-05</td>\n",
       "      <td>4.364e-05</td>\n",
       "      <td>...</td>\n",
       "      <td>1.912e-04</td>\n",
       "      <td>-1.459e-06</td>\n",
       "      <td>1.614e-05</td>\n",
       "    </tr>\n",
       "    <tr>\n",
       "      <th>2021-11-25</th>\n",
       "      <td>-3.861e-08</td>\n",
       "      <td>4.631e-07</td>\n",
       "      <td>1.717e-07</td>\n",
       "      <td>...</td>\n",
       "      <td>4.724e-06</td>\n",
       "      <td>-2.189e-08</td>\n",
       "      <td>-2.871e-07</td>\n",
       "    </tr>\n",
       "    <tr>\n",
       "      <th>2021-11-26</th>\n",
       "      <td>-9.355e-10</td>\n",
       "      <td>7.037e-09</td>\n",
       "      <td>-7.649e-10</td>\n",
       "      <td>...</td>\n",
       "      <td>-5.374e-08</td>\n",
       "      <td>4.404e-10</td>\n",
       "      <td>2.361e-09</td>\n",
       "    </tr>\n",
       "    <tr>\n",
       "      <th>2021-11-29</th>\n",
       "      <td>-4.074e-12</td>\n",
       "      <td>-1.241e-10</td>\n",
       "      <td>-7.838e-13</td>\n",
       "      <td>...</td>\n",
       "      <td>-9.552e-10</td>\n",
       "      <td>1.639e-11</td>\n",
       "      <td>-2.002e-11</td>\n",
       "    </tr>\n",
       "    <tr>\n",
       "      <th>...</th>\n",
       "      <td>...</td>\n",
       "      <td>...</td>\n",
       "      <td>...</td>\n",
       "      <td>...</td>\n",
       "      <td>...</td>\n",
       "      <td>...</td>\n",
       "      <td>...</td>\n",
       "    </tr>\n",
       "    <tr>\n",
       "      <th>2022-02-14</th>\n",
       "      <td>-3.617e-121</td>\n",
       "      <td>-2.873e-122</td>\n",
       "      <td>-3.953e-119</td>\n",
       "      <td>...</td>\n",
       "      <td>-2.077e-115</td>\n",
       "      <td>2.997e-117</td>\n",
       "      <td>-8.624e-125</td>\n",
       "    </tr>\n",
       "    <tr>\n",
       "      <th>2022-02-15</th>\n",
       "      <td>1.721e-122</td>\n",
       "      <td>1.177e-124</td>\n",
       "      <td>-6.120e-122</td>\n",
       "      <td>...</td>\n",
       "      <td>9.129e-117</td>\n",
       "      <td>6.067e-119</td>\n",
       "      <td>1.503e-126</td>\n",
       "    </tr>\n",
       "    <tr>\n",
       "      <th>2022-02-16</th>\n",
       "      <td>2.997e-124</td>\n",
       "      <td>5.199e-127</td>\n",
       "      <td>1.707e-123</td>\n",
       "      <td>...</td>\n",
       "      <td>-4.790e-119</td>\n",
       "      <td>-4.185e-121</td>\n",
       "      <td>-6.250e-129</td>\n",
       "    </tr>\n",
       "    <tr>\n",
       "      <th>2022-02-17</th>\n",
       "      <td>2.649e-126</td>\n",
       "      <td>1.497e-128</td>\n",
       "      <td>-1.166e-125</td>\n",
       "      <td>...</td>\n",
       "      <td>6.730e-121</td>\n",
       "      <td>-1.392e-122</td>\n",
       "      <td>-1.869e-130</td>\n",
       "    </tr>\n",
       "    <tr>\n",
       "      <th>2022-02-18</th>\n",
       "      <td>-4.637e-128</td>\n",
       "      <td>3.971e-130</td>\n",
       "      <td>-3.791e-127</td>\n",
       "      <td>...</td>\n",
       "      <td>1.372e-122</td>\n",
       "      <td>-1.141e-124</td>\n",
       "      <td>-2.574e-133</td>\n",
       "    </tr>\n",
       "  </tbody>\n",
       "</table>\n",
       "<p>64 rows × 10000 columns</p>\n",
       "</div>"
      ],
      "text/plain": [
       "                  0           1           2     ...        9997        9998  \\\n",
       "2021-11-23  -1.682e-03   6.874e-04   9.239e-03  ...  -1.070e-02   1.479e-03   \n",
       "2021-11-24  -3.285e-06   1.256e-05   4.364e-05  ...   1.912e-04  -1.459e-06   \n",
       "2021-11-25  -3.861e-08   4.631e-07   1.717e-07  ...   4.724e-06  -2.189e-08   \n",
       "2021-11-26  -9.355e-10   7.037e-09  -7.649e-10  ...  -5.374e-08   4.404e-10   \n",
       "2021-11-29  -4.074e-12  -1.241e-10  -7.838e-13  ...  -9.552e-10   1.639e-11   \n",
       "...                ...         ...         ...  ...         ...         ...   \n",
       "2022-02-14 -3.617e-121 -2.873e-122 -3.953e-119  ... -2.077e-115  2.997e-117   \n",
       "2022-02-15  1.721e-122  1.177e-124 -6.120e-122  ...  9.129e-117  6.067e-119   \n",
       "2022-02-16  2.997e-124  5.199e-127  1.707e-123  ... -4.790e-119 -4.185e-121   \n",
       "2022-02-17  2.649e-126  1.497e-128 -1.166e-125  ...  6.730e-121 -1.392e-122   \n",
       "2022-02-18 -4.637e-128  3.971e-130 -3.791e-127  ...  1.372e-122 -1.141e-124   \n",
       "\n",
       "                  9999  \n",
       "2021-11-23   2.719e-03  \n",
       "2021-11-24   1.614e-05  \n",
       "2021-11-25  -2.871e-07  \n",
       "2021-11-26   2.361e-09  \n",
       "2021-11-29  -2.002e-11  \n",
       "...                ...  \n",
       "2022-02-14 -8.624e-125  \n",
       "2022-02-15  1.503e-126  \n",
       "2022-02-16 -6.250e-129  \n",
       "2022-02-17 -1.869e-130  \n",
       "2022-02-18 -2.574e-133  \n",
       "\n",
       "[64 rows x 10000 columns]"
      ]
     },
     "execution_count": 15,
     "metadata": {},
     "output_type": "execute_result"
    }
   ],
   "source": [
    "dt = 1; # Rendimiento diario \n",
    "Z = np.random.randn(ndays,nscen)  # Z ~ N(0,1)\n",
    "# Simulación normal de los rendimientos\n",
    "Ri_dt = pd.DataFrame(mu_R*dt+Z*sigma_R*np.sqrt(dt),index=dates)\n",
    "Ri_dt.cumprod()"
   ]
  },
  {
   "cell_type": "code",
   "execution_count": 16,
   "metadata": {},
   "outputs": [
    {
     "data": {
      "text/html": [
       "<div>\n",
       "<style scoped>\n",
       "    .dataframe tbody tr th:only-of-type {\n",
       "        vertical-align: middle;\n",
       "    }\n",
       "\n",
       "    .dataframe tbody tr th {\n",
       "        vertical-align: top;\n",
       "    }\n",
       "\n",
       "    .dataframe thead th {\n",
       "        text-align: right;\n",
       "    }\n",
       "</style>\n",
       "<table border=\"1\" class=\"dataframe\">\n",
       "  <thead>\n",
       "    <tr style=\"text-align: right;\">\n",
       "      <th></th>\n",
       "      <th>0</th>\n",
       "      <th>1</th>\n",
       "      <th>2</th>\n",
       "      <th>...</th>\n",
       "      <th>9997</th>\n",
       "      <th>9998</th>\n",
       "      <th>9999</th>\n",
       "    </tr>\n",
       "  </thead>\n",
       "  <tbody>\n",
       "    <tr>\n",
       "      <th>2021-11-23</th>\n",
       "      <td>161.139</td>\n",
       "      <td>161.521</td>\n",
       "      <td>162.901</td>\n",
       "      <td>...</td>\n",
       "      <td>159.683</td>\n",
       "      <td>161.649</td>\n",
       "      <td>161.849</td>\n",
       "    </tr>\n",
       "    <tr>\n",
       "      <th>2021-11-24</th>\n",
       "      <td>161.453</td>\n",
       "      <td>164.472</td>\n",
       "      <td>163.671</td>\n",
       "      <td>...</td>\n",
       "      <td>156.830</td>\n",
       "      <td>161.489</td>\n",
       "      <td>162.809</td>\n",
       "    </tr>\n",
       "    <tr>\n",
       "      <th>2021-11-25</th>\n",
       "      <td>163.351</td>\n",
       "      <td>170.537</td>\n",
       "      <td>164.315</td>\n",
       "      <td>...</td>\n",
       "      <td>160.705</td>\n",
       "      <td>163.913</td>\n",
       "      <td>159.912</td>\n",
       "    </tr>\n",
       "    <tr>\n",
       "      <th>2021-11-26</th>\n",
       "      <td>167.309</td>\n",
       "      <td>173.128</td>\n",
       "      <td>163.583</td>\n",
       "      <td>...</td>\n",
       "      <td>158.877</td>\n",
       "      <td>160.616</td>\n",
       "      <td>158.597</td>\n",
       "    </tr>\n",
       "    <tr>\n",
       "      <th>2021-11-29</th>\n",
       "      <td>168.037</td>\n",
       "      <td>170.074</td>\n",
       "      <td>163.751</td>\n",
       "      <td>...</td>\n",
       "      <td>161.701</td>\n",
       "      <td>166.592</td>\n",
       "      <td>157.252</td>\n",
       "    </tr>\n",
       "    <tr>\n",
       "      <th>...</th>\n",
       "      <td>...</td>\n",
       "      <td>...</td>\n",
       "      <td>...</td>\n",
       "      <td>...</td>\n",
       "      <td>...</td>\n",
       "      <td>...</td>\n",
       "      <td>...</td>\n",
       "    </tr>\n",
       "    <tr>\n",
       "      <th>2022-02-14</th>\n",
       "      <td>221.553</td>\n",
       "      <td>236.324</td>\n",
       "      <td>172.115</td>\n",
       "      <td>...</td>\n",
       "      <td>180.856</td>\n",
       "      <td>163.945</td>\n",
       "      <td>140.736</td>\n",
       "    </tr>\n",
       "    <tr>\n",
       "      <th>2022-02-15</th>\n",
       "      <td>211.011</td>\n",
       "      <td>235.356</td>\n",
       "      <td>172.382</td>\n",
       "      <td>...</td>\n",
       "      <td>172.906</td>\n",
       "      <td>167.263</td>\n",
       "      <td>138.284</td>\n",
       "    </tr>\n",
       "    <tr>\n",
       "      <th>2022-02-16</th>\n",
       "      <td>214.686</td>\n",
       "      <td>236.396</td>\n",
       "      <td>167.574</td>\n",
       "      <td>...</td>\n",
       "      <td>171.998</td>\n",
       "      <td>166.110</td>\n",
       "      <td>137.709</td>\n",
       "    </tr>\n",
       "    <tr>\n",
       "      <th>2022-02-17</th>\n",
       "      <td>216.583</td>\n",
       "      <td>243.202</td>\n",
       "      <td>166.429</td>\n",
       "      <td>...</td>\n",
       "      <td>169.582</td>\n",
       "      <td>171.634</td>\n",
       "      <td>141.826</td>\n",
       "    </tr>\n",
       "    <tr>\n",
       "      <th>2022-02-18</th>\n",
       "      <td>212.793</td>\n",
       "      <td>249.654</td>\n",
       "      <td>171.840</td>\n",
       "      <td>...</td>\n",
       "      <td>173.038</td>\n",
       "      <td>173.042</td>\n",
       "      <td>142.022</td>\n",
       "    </tr>\n",
       "  </tbody>\n",
       "</table>\n",
       "<p>64 rows × 10000 columns</p>\n",
       "</div>"
      ],
      "text/plain": [
       "               0        1        2     ...     9997     9998     9999\n",
       "2021-11-23  161.139  161.521  162.901  ...  159.683  161.649  161.849\n",
       "2021-11-24  161.453  164.472  163.671  ...  156.830  161.489  162.809\n",
       "2021-11-25  163.351  170.537  164.315  ...  160.705  163.913  159.912\n",
       "2021-11-26  167.309  173.128  163.583  ...  158.877  160.616  158.597\n",
       "2021-11-29  168.037  170.074  163.751  ...  161.701  166.592  157.252\n",
       "...             ...      ...      ...  ...      ...      ...      ...\n",
       "2022-02-14  221.553  236.324  172.115  ...  180.856  163.945  140.736\n",
       "2022-02-15  211.011  235.356  172.382  ...  172.906  167.263  138.284\n",
       "2022-02-16  214.686  236.396  167.574  ...  171.998  166.110  137.709\n",
       "2022-02-17  216.583  243.202  166.429  ...  169.582  171.634  141.826\n",
       "2022-02-18  212.793  249.654  171.840  ...  173.038  173.042  142.022\n",
       "\n",
       "[64 rows x 10000 columns]"
      ]
     },
     "execution_count": 16,
     "metadata": {},
     "output_type": "execute_result"
    }
   ],
   "source": [
    "# simulacion del precio\n",
    "S_0 = closes_aapl.iloc[-1,0]\n",
    "S_T = S_0*(1+Ri_dt).cumprod()\n",
    "\n",
    "#pd.concat([closes_aapl,S_T]).plot(figsize=(8,6));\n",
    "#plt.title('Simulación de precios usando rendimiento simple');\n",
    "S_T"
   ]
  },
  {
   "cell_type": "markdown",
   "metadata": {},
   "source": [
    "### Rendimiento Logaritmico"
   ]
  },
  {
   "cell_type": "code",
   "execution_count": 17,
   "metadata": {},
   "outputs": [
    {
     "data": {
      "text/plain": [
       "0.17756258924237078"
      ]
     },
     "execution_count": 17,
     "metadata": {},
     "output_type": "execute_result"
    }
   ],
   "source": [
    "ri = calc_daily_ret(closes_aapl)\n",
    "# Usando la media y desviación estándar de los rendimientos logarítmicos\n",
    "mu_r = ri.mean()[0]\n",
    "sigma_r = ri.std()[0]\n",
    "\n",
    "# # Usando la equivalencia teórica\n",
    "# mu_r2 = mu_R - (sigma_R**2)/2\n",
    "\n",
    "sim_ret_ri = pd.DataFrame(mu_r*dt+Z*sigma_r*np.sqrt(dt), index=dates)\n",
    "\n",
    "# Simulación del precio\n",
    "S_0 = closes_aapl.iloc[-1,0]\n",
    "S_T2 = S_0*np.exp(sim_ret_ri.cumsum())\n",
    "\n",
    "# Se muestran los precios simulados con los precios descargados\n",
    "# pd.concat([closes_aapl,S_T2]).plot(figsize=(8,6));\n",
    "# plt.title('Simulación de precios usando rendimiento logarítmico');\n",
    "\n",
    "# from sklearn.metrics import mean_absolute_error\n",
    "e1 = np.abs(S_T-S_T2).mean().mean()\n",
    "e1"
   ]
  },
  {
   "cell_type": "code",
   "execution_count": 18,
   "metadata": {},
   "outputs": [
    {
     "data": {
      "text/html": [
       "<div>\n",
       "<style scoped>\n",
       "    .dataframe tbody tr th:only-of-type {\n",
       "        vertical-align: middle;\n",
       "    }\n",
       "\n",
       "    .dataframe tbody tr th {\n",
       "        vertical-align: top;\n",
       "    }\n",
       "\n",
       "    .dataframe thead th {\n",
       "        text-align: right;\n",
       "    }\n",
       "</style>\n",
       "<table border=\"1\" class=\"dataframe\">\n",
       "  <thead>\n",
       "    <tr style=\"text-align: right;\">\n",
       "      <th></th>\n",
       "      <th>0</th>\n",
       "      <th>1</th>\n",
       "      <th>2</th>\n",
       "      <th>...</th>\n",
       "      <th>9997</th>\n",
       "      <th>9998</th>\n",
       "      <th>9999</th>\n",
       "    </tr>\n",
       "  </thead>\n",
       "  <tbody>\n",
       "    <tr>\n",
       "      <th>2021-11-23</th>\n",
       "      <td>161.410</td>\n",
       "      <td>161.410</td>\n",
       "      <td>161.410</td>\n",
       "      <td>...</td>\n",
       "      <td>161.410</td>\n",
       "      <td>161.410</td>\n",
       "      <td>161.410</td>\n",
       "    </tr>\n",
       "    <tr>\n",
       "      <th>2021-11-24</th>\n",
       "      <td>161.398</td>\n",
       "      <td>164.446</td>\n",
       "      <td>163.625</td>\n",
       "      <td>...</td>\n",
       "      <td>156.805</td>\n",
       "      <td>161.434</td>\n",
       "      <td>162.758</td>\n",
       "    </tr>\n",
       "    <tr>\n",
       "      <th>2021-11-25</th>\n",
       "      <td>163.280</td>\n",
       "      <td>170.599</td>\n",
       "      <td>164.242</td>\n",
       "      <td>...</td>\n",
       "      <td>160.704</td>\n",
       "      <td>163.849</td>\n",
       "      <td>159.857</td>\n",
       "    </tr>\n",
       "    <tr>\n",
       "      <th>2021-11-26</th>\n",
       "      <td>167.259</td>\n",
       "      <td>173.183</td>\n",
       "      <td>163.483</td>\n",
       "      <td>...</td>\n",
       "      <td>158.857</td>\n",
       "      <td>160.555</td>\n",
       "      <td>158.519</td>\n",
       "    </tr>\n",
       "    <tr>\n",
       "      <th>2021-11-29</th>\n",
       "      <td>167.960</td>\n",
       "      <td>170.123</td>\n",
       "      <td>163.623</td>\n",
       "      <td>...</td>\n",
       "      <td>161.681</td>\n",
       "      <td>166.618</td>\n",
       "      <td>157.152</td>\n",
       "    </tr>\n",
       "    <tr>\n",
       "      <th>...</th>\n",
       "      <td>...</td>\n",
       "      <td>...</td>\n",
       "      <td>...</td>\n",
       "      <td>...</td>\n",
       "      <td>...</td>\n",
       "      <td>...</td>\n",
       "      <td>...</td>\n",
       "    </tr>\n",
       "    <tr>\n",
       "      <th>2022-02-14</th>\n",
       "      <td>222.033</td>\n",
       "      <td>236.242</td>\n",
       "      <td>172.490</td>\n",
       "      <td>...</td>\n",
       "      <td>180.660</td>\n",
       "      <td>163.927</td>\n",
       "      <td>140.454</td>\n",
       "    </tr>\n",
       "    <tr>\n",
       "      <th>2022-02-15</th>\n",
       "      <td>211.670</td>\n",
       "      <td>235.235</td>\n",
       "      <td>172.728</td>\n",
       "      <td>...</td>\n",
       "      <td>172.854</td>\n",
       "      <td>167.253</td>\n",
       "      <td>138.002</td>\n",
       "    </tr>\n",
       "    <tr>\n",
       "      <th>2022-02-16</th>\n",
       "      <td>215.354</td>\n",
       "      <td>236.237</td>\n",
       "      <td>167.944</td>\n",
       "      <td>...</td>\n",
       "      <td>171.918</td>\n",
       "      <td>166.074</td>\n",
       "      <td>137.405</td>\n",
       "    </tr>\n",
       "    <tr>\n",
       "      <th>2022-02-17</th>\n",
       "      <td>217.231</td>\n",
       "      <td>243.101</td>\n",
       "      <td>166.770</td>\n",
       "      <td>...</td>\n",
       "      <td>169.488</td>\n",
       "      <td>171.666</td>\n",
       "      <td>141.555</td>\n",
       "    </tr>\n",
       "    <tr>\n",
       "      <th>2022-02-18</th>\n",
       "      <td>213.421</td>\n",
       "      <td>249.600</td>\n",
       "      <td>172.256</td>\n",
       "      <td>...</td>\n",
       "      <td>172.951</td>\n",
       "      <td>173.050</td>\n",
       "      <td>141.726</td>\n",
       "    </tr>\n",
       "  </tbody>\n",
       "</table>\n",
       "<p>64 rows × 10000 columns</p>\n",
       "</div>"
      ],
      "text/plain": [
       "               0        1        2     ...     9997     9998     9999\n",
       "2021-11-23  161.410  161.410  161.410  ...  161.410  161.410  161.410\n",
       "2021-11-24  161.398  164.446  163.625  ...  156.805  161.434  162.758\n",
       "2021-11-25  163.280  170.599  164.242  ...  160.704  163.849  159.857\n",
       "2021-11-26  167.259  173.183  163.483  ...  158.857  160.555  158.519\n",
       "2021-11-29  167.960  170.123  163.623  ...  161.681  166.618  157.152\n",
       "...             ...      ...      ...  ...      ...      ...      ...\n",
       "2022-02-14  222.033  236.242  172.490  ...  180.660  163.927  140.454\n",
       "2022-02-15  211.670  235.235  172.728  ...  172.854  167.253  138.002\n",
       "2022-02-16  215.354  236.237  167.944  ...  171.918  166.074  137.405\n",
       "2022-02-17  217.231  243.101  166.770  ...  169.488  171.666  141.555\n",
       "2022-02-18  213.421  249.600  172.256  ...  172.951  173.050  141.726\n",
       "\n",
       "[64 rows x 10000 columns]"
      ]
     },
     "execution_count": 18,
     "metadata": {},
     "output_type": "execute_result"
    }
   ],
   "source": [
    "# simulación de precios con rendimiento logarítmico\n",
    "S_T2.iloc[0, :] = closes_aapl.iloc[-1]\n",
    "S_T2"
   ]
  },
  {
   "cell_type": "code",
   "execution_count": 19,
   "metadata": {},
   "outputs": [
    {
     "name": "stdout",
     "output_type": "stream",
     "text": [
      "Las std usando rendimientos logarítmicos y simples son similares\n"
     ]
    },
    {
     "data": {
      "text/plain": [
       "(0.018496190869577645, 0.018513767814433556)"
      ]
     },
     "execution_count": 19,
     "metadata": {},
     "output_type": "execute_result"
    }
   ],
   "source": [
    "print('Las std usando rendimientos logarítmicos y simples son similares')\n",
    "sigma_R,sigma_r"
   ]
  },
  {
   "cell_type": "markdown",
   "metadata": {},
   "source": [
    "#### Encontrar el valor de la opción según la función de pago correspondiente\n",
    "\n",
    "$$ P(S(t),t)=max\\{K-S(T),0\\} \\rightarrow \\text{En el caso de Put}$$ \n"
   ]
  },
  {
   "cell_type": "code",
   "execution_count": 20,
   "metadata": {},
   "outputs": [
    {
     "data": {
      "text/plain": [
       "Prima    8.517\n",
       "Name: 2022-02-18 00:00:00, dtype: float64"
      ]
     },
     "execution_count": 20,
     "metadata": {},
     "output_type": "execute_result"
    },
    {
     "data": {
      "image/png": "[encoded data removed]",
      "text/plain": [
       "<Figure size 432x288 with 1 Axes>"
      ]
     },
     "metadata": {
      "needs_background": "light"
     },
     "output_type": "display_data"
    }
   ],
   "source": [
    "# cálculo de la prima que se necesita pagar para obtener put\n",
    "put = pd.DataFrame({'Prima':np.exp(-mu_r*ndays) \\\n",
    "              *np.fmax(K-S_T2, 0).mean(axis=1)}, index=dates)\n",
    "put.plot();\n",
    "put.iloc[-1]"
   ]
  },
  {
   "cell_type": "markdown",
   "metadata": {},
   "source": [
    "### Valuación usando simulación: modelo normal para los rendimientos"
   ]
  },
  {
   "cell_type": "code",
   "execution_count": 21,
   "metadata": {},
   "outputs": [
    {
     "data": {
      "text/plain": [
       "(0.0012772721649051066, 0.018513767814433556)"
      ]
     },
     "execution_count": 21,
     "metadata": {},
     "output_type": "execute_result"
    }
   ],
   "source": [
    "# Hallar media y desviación estándar muestral de los rendimientos logarítmicos\n",
    "mu = ret_aapl.mean()[0]\n",
    "sigma = ret_aapl.std()[0]\n",
    "mu, sigma"
   ]
  },
  {
   "cell_type": "code",
   "execution_count": 22,
   "metadata": {},
   "outputs": [],
   "source": [
    "# Tasa de bonos de 1 yr de fecha 19/11/21 -> 0.18%\n",
    "r = 0.0018/360 # Tasa diaria"
   ]
  },
  {
   "cell_type": "code",
   "execution_count": 23,
   "metadata": {},
   "outputs": [
    {
     "data": {
      "text/plain": [
       "DatetimeIndex(['2021-11-23', '2021-11-24', '2021-11-25', '2021-11-26',\n",
       "               '2021-11-29', '2021-11-30', '2021-12-01', '2021-12-02',\n",
       "               '2021-12-03', '2021-12-06', '2021-12-07', '2021-12-08',\n",
       "               '2021-12-09', '2021-12-10', '2021-12-13', '2021-12-14',\n",
       "               '2021-12-15', '2021-12-16', '2021-12-17', '2021-12-20',\n",
       "               '2021-12-21', '2021-12-22', '2021-12-23', '2021-12-24',\n",
       "               '2021-12-27', '2021-12-28', '2021-12-29', '2021-12-30',\n",
       "               '2021-12-31', '2022-01-03', '2022-01-04', '2022-01-05',\n",
       "               '2022-01-06', '2022-01-07', '2022-01-10', '2022-01-11',\n",
       "               '2022-01-12', '2022-01-13', '2022-01-14', '2022-01-17',\n",
       "               '2022-01-18', '2022-01-19', '2022-01-20', '2022-01-21',\n",
       "               '2022-01-24', '2022-01-25', '2022-01-26', '2022-01-27',\n",
       "               '2022-01-28', '2022-01-31', '2022-02-01', '2022-02-02',\n",
       "               '2022-02-03', '2022-02-04', '2022-02-07', '2022-02-08',\n",
       "               '2022-02-09', '2022-02-10', '2022-02-11', '2022-02-14',\n",
       "               '2022-02-15', '2022-02-16', '2022-02-17', '2022-02-18'],\n",
       "              dtype='datetime64[ns]', freq='B')"
      ]
     },
     "execution_count": 23,
     "metadata": {},
     "output_type": "execute_result"
    }
   ],
   "source": [
    "#Simularemos el tiempo de contrato desde HOY hasta la fecha de Expiry\n",
    "today = pd.Timestamp(date.today())\n",
    "expiry = pd.to_datetime('2022-02-18')\n",
    "\n",
    "nscen = 10\n",
    "dates = pd.date_range(start=today, end = expiry, freq='B')\n",
    "ndays = len(dates)\n",
    "dates"
   ]
  },
  {
   "cell_type": "code",
   "execution_count": 24,
   "metadata": {},
   "outputs": [
    {
     "data": {
      "text/html": [
       "<div>\n",
       "<style scoped>\n",
       "    .dataframe tbody tr th:only-of-type {\n",
       "        vertical-align: middle;\n",
       "    }\n",
       "\n",
       "    .dataframe tbody tr th {\n",
       "        vertical-align: top;\n",
       "    }\n",
       "\n",
       "    .dataframe thead th {\n",
       "        text-align: right;\n",
       "    }\n",
       "</style>\n",
       "<table border=\"1\" class=\"dataframe\">\n",
       "  <thead>\n",
       "    <tr style=\"text-align: right;\">\n",
       "      <th></th>\n",
       "      <th>0</th>\n",
       "      <th>1</th>\n",
       "      <th>2</th>\n",
       "      <th>...</th>\n",
       "      <th>7</th>\n",
       "      <th>8</th>\n",
       "      <th>9</th>\n",
       "    </tr>\n",
       "  </thead>\n",
       "  <tbody>\n",
       "    <tr>\n",
       "      <th>2021-11-23</th>\n",
       "      <td>3.140e-02</td>\n",
       "      <td>0.012</td>\n",
       "      <td>0.023</td>\n",
       "      <td>...</td>\n",
       "      <td>-0.004</td>\n",
       "      <td>-0.019</td>\n",
       "      <td>-0.028</td>\n",
       "    </tr>\n",
       "    <tr>\n",
       "      <th>2021-11-24</th>\n",
       "      <td>1.292e-02</td>\n",
       "      <td>0.005</td>\n",
       "      <td>0.016</td>\n",
       "      <td>...</td>\n",
       "      <td>-0.032</td>\n",
       "      <td>0.004</td>\n",
       "      <td>-0.018</td>\n",
       "    </tr>\n",
       "    <tr>\n",
       "      <th>2021-11-25</th>\n",
       "      <td>-8.395e-03</td>\n",
       "      <td>-0.057</td>\n",
       "      <td>0.035</td>\n",
       "      <td>...</td>\n",
       "      <td>-0.027</td>\n",
       "      <td>0.005</td>\n",
       "      <td>-0.010</td>\n",
       "    </tr>\n",
       "    <tr>\n",
       "      <th>2021-11-26</th>\n",
       "      <td>-4.989e-04</td>\n",
       "      <td>-0.055</td>\n",
       "      <td>0.026</td>\n",
       "      <td>...</td>\n",
       "      <td>-0.006</td>\n",
       "      <td>-0.019</td>\n",
       "      <td>-0.014</td>\n",
       "    </tr>\n",
       "    <tr>\n",
       "      <th>2021-11-29</th>\n",
       "      <td>3.442e-03</td>\n",
       "      <td>-0.045</td>\n",
       "      <td>0.081</td>\n",
       "      <td>...</td>\n",
       "      <td>0.028</td>\n",
       "      <td>-0.052</td>\n",
       "      <td>-0.014</td>\n",
       "    </tr>\n",
       "    <tr>\n",
       "      <th>...</th>\n",
       "      <td>...</td>\n",
       "      <td>...</td>\n",
       "      <td>...</td>\n",
       "      <td>...</td>\n",
       "      <td>...</td>\n",
       "      <td>...</td>\n",
       "      <td>...</td>\n",
       "    </tr>\n",
       "    <tr>\n",
       "      <th>2022-02-14</th>\n",
       "      <td>2.330e-01</td>\n",
       "      <td>-0.159</td>\n",
       "      <td>0.006</td>\n",
       "      <td>...</td>\n",
       "      <td>-0.019</td>\n",
       "      <td>0.042</td>\n",
       "      <td>0.207</td>\n",
       "    </tr>\n",
       "    <tr>\n",
       "      <th>2022-02-15</th>\n",
       "      <td>2.027e-01</td>\n",
       "      <td>-0.183</td>\n",
       "      <td>0.006</td>\n",
       "      <td>...</td>\n",
       "      <td>-0.013</td>\n",
       "      <td>0.034</td>\n",
       "      <td>0.205</td>\n",
       "    </tr>\n",
       "    <tr>\n",
       "      <th>2022-02-16</th>\n",
       "      <td>2.104e-01</td>\n",
       "      <td>-0.183</td>\n",
       "      <td>-0.006</td>\n",
       "      <td>...</td>\n",
       "      <td>-0.006</td>\n",
       "      <td>0.046</td>\n",
       "      <td>0.197</td>\n",
       "    </tr>\n",
       "    <tr>\n",
       "      <th>2022-02-17</th>\n",
       "      <td>2.080e-01</td>\n",
       "      <td>-0.188</td>\n",
       "      <td>-0.025</td>\n",
       "      <td>...</td>\n",
       "      <td>-0.005</td>\n",
       "      <td>0.051</td>\n",
       "      <td>0.188</td>\n",
       "    </tr>\n",
       "    <tr>\n",
       "      <th>2022-02-18</th>\n",
       "      <td>2.058e-01</td>\n",
       "      <td>-0.208</td>\n",
       "      <td>-0.021</td>\n",
       "      <td>...</td>\n",
       "      <td>0.029</td>\n",
       "      <td>0.063</td>\n",
       "      <td>0.203</td>\n",
       "    </tr>\n",
       "  </tbody>\n",
       "</table>\n",
       "<p>64 rows × 10 columns</p>\n",
       "</div>"
      ],
      "text/plain": [
       "                    0      1      2  ...      7      8      9\n",
       "2021-11-23  3.140e-02  0.012  0.023  ... -0.004 -0.019 -0.028\n",
       "2021-11-24  1.292e-02  0.005  0.016  ... -0.032  0.004 -0.018\n",
       "2021-11-25 -8.395e-03 -0.057  0.035  ... -0.027  0.005 -0.010\n",
       "2021-11-26 -4.989e-04 -0.055  0.026  ... -0.006 -0.019 -0.014\n",
       "2021-11-29  3.442e-03 -0.045  0.081  ...  0.028 -0.052 -0.014\n",
       "...               ...    ...    ...  ...    ...    ...    ...\n",
       "2022-02-14  2.330e-01 -0.159  0.006  ... -0.019  0.042  0.207\n",
       "2022-02-15  2.027e-01 -0.183  0.006  ... -0.013  0.034  0.205\n",
       "2022-02-16  2.104e-01 -0.183 -0.006  ... -0.006  0.046  0.197\n",
       "2022-02-17  2.080e-01 -0.188 -0.025  ... -0.005  0.051  0.188\n",
       "2022-02-18  2.058e-01 -0.208 -0.021  ...  0.029  0.063  0.203\n",
       "\n",
       "[64 rows x 10 columns]"
      ]
     },
     "execution_count": 24,
     "metadata": {},
     "output_type": "execute_result"
    }
   ],
   "source": [
    "# Generamos 10 escenarios de rendimientos simulados y guardamos en un dataframe\n",
    "sim_ret = pd.DataFrame(sigma*np.random.randn(ndays,nscen)+r, index=dates)\n",
    "sim_ret.cumsum()\n",
    "# Las columnas son los escenarios y las filas son las días de contrato"
   ]
  },
  {
   "cell_type": "code",
   "execution_count": 25,
   "metadata": {},
   "outputs": [
    {
     "data": {
      "text/html": [
       "<div>\n",
       "<style scoped>\n",
       "    .dataframe tbody tr th:only-of-type {\n",
       "        vertical-align: middle;\n",
       "    }\n",
       "\n",
       "    .dataframe tbody tr th {\n",
       "        vertical-align: top;\n",
       "    }\n",
       "\n",
       "    .dataframe thead th {\n",
       "        text-align: right;\n",
       "    }\n",
       "</style>\n",
       "<table border=\"1\" class=\"dataframe\">\n",
       "  <thead>\n",
       "    <tr style=\"text-align: right;\">\n",
       "      <th></th>\n",
       "      <th>0</th>\n",
       "      <th>1</th>\n",
       "      <th>2</th>\n",
       "      <th>...</th>\n",
       "      <th>7</th>\n",
       "      <th>8</th>\n",
       "      <th>9</th>\n",
       "    </tr>\n",
       "  </thead>\n",
       "  <tbody>\n",
       "    <tr>\n",
       "      <th>2021-11-23</th>\n",
       "      <td>166.559</td>\n",
       "      <td>163.327</td>\n",
       "      <td>165.210</td>\n",
       "      <td>...</td>\n",
       "      <td>160.786</td>\n",
       "      <td>158.325</td>\n",
       "      <td>156.918</td>\n",
       "    </tr>\n",
       "    <tr>\n",
       "      <th>2021-11-24</th>\n",
       "      <td>163.509</td>\n",
       "      <td>162.272</td>\n",
       "      <td>163.983</td>\n",
       "      <td>...</td>\n",
       "      <td>156.280</td>\n",
       "      <td>162.103</td>\n",
       "      <td>158.470</td>\n",
       "    </tr>\n",
       "    <tr>\n",
       "      <th>2021-11-25</th>\n",
       "      <td>160.061</td>\n",
       "      <td>152.509</td>\n",
       "      <td>167.076</td>\n",
       "      <td>...</td>\n",
       "      <td>157.057</td>\n",
       "      <td>162.181</td>\n",
       "      <td>159.760</td>\n",
       "    </tr>\n",
       "    <tr>\n",
       "      <th>2021-11-26</th>\n",
       "      <td>161.329</td>\n",
       "      <td>152.741</td>\n",
       "      <td>165.635</td>\n",
       "      <td>...</td>\n",
       "      <td>160.448</td>\n",
       "      <td>158.438</td>\n",
       "      <td>159.208</td>\n",
       "    </tr>\n",
       "    <tr>\n",
       "      <th>2021-11-29</th>\n",
       "      <td>161.967</td>\n",
       "      <td>154.350</td>\n",
       "      <td>174.993</td>\n",
       "      <td>...</td>\n",
       "      <td>166.045</td>\n",
       "      <td>153.203</td>\n",
       "      <td>159.238</td>\n",
       "    </tr>\n",
       "    <tr>\n",
       "      <th>...</th>\n",
       "      <td>...</td>\n",
       "      <td>...</td>\n",
       "      <td>...</td>\n",
       "      <td>...</td>\n",
       "      <td>...</td>\n",
       "      <td>...</td>\n",
       "      <td>...</td>\n",
       "    </tr>\n",
       "    <tr>\n",
       "      <th>2022-02-14</th>\n",
       "      <td>203.768</td>\n",
       "      <td>137.727</td>\n",
       "      <td>162.413</td>\n",
       "      <td>...</td>\n",
       "      <td>158.412</td>\n",
       "      <td>168.374</td>\n",
       "      <td>198.533</td>\n",
       "    </tr>\n",
       "    <tr>\n",
       "      <th>2022-02-15</th>\n",
       "      <td>197.689</td>\n",
       "      <td>134.456</td>\n",
       "      <td>162.370</td>\n",
       "      <td>...</td>\n",
       "      <td>159.254</td>\n",
       "      <td>166.985</td>\n",
       "      <td>198.104</td>\n",
       "    </tr>\n",
       "    <tr>\n",
       "      <th>2022-02-16</th>\n",
       "      <td>199.216</td>\n",
       "      <td>134.367</td>\n",
       "      <td>160.431</td>\n",
       "      <td>...</td>\n",
       "      <td>160.421</td>\n",
       "      <td>169.053</td>\n",
       "      <td>196.641</td>\n",
       "    </tr>\n",
       "    <tr>\n",
       "      <th>2022-02-17</th>\n",
       "      <td>198.730</td>\n",
       "      <td>133.711</td>\n",
       "      <td>157.395</td>\n",
       "      <td>...</td>\n",
       "      <td>160.588</td>\n",
       "      <td>169.937</td>\n",
       "      <td>194.711</td>\n",
       "    </tr>\n",
       "    <tr>\n",
       "      <th>2022-02-18</th>\n",
       "      <td>198.289</td>\n",
       "      <td>131.086</td>\n",
       "      <td>158.032</td>\n",
       "      <td>...</td>\n",
       "      <td>166.117</td>\n",
       "      <td>171.928</td>\n",
       "      <td>197.765</td>\n",
       "    </tr>\n",
       "  </tbody>\n",
       "</table>\n",
       "<p>64 rows × 10 columns</p>\n",
       "</div>"
      ],
      "text/plain": [
       "                  0        1        2  ...        7        8        9\n",
       "2021-11-23  166.559  163.327  165.210  ...  160.786  158.325  156.918\n",
       "2021-11-24  163.509  162.272  163.983  ...  156.280  162.103  158.470\n",
       "2021-11-25  160.061  152.509  167.076  ...  157.057  162.181  159.760\n",
       "2021-11-26  161.329  152.741  165.635  ...  160.448  158.438  159.208\n",
       "2021-11-29  161.967  154.350  174.993  ...  166.045  153.203  159.238\n",
       "...             ...      ...      ...  ...      ...      ...      ...\n",
       "2022-02-14  203.768  137.727  162.413  ...  158.412  168.374  198.533\n",
       "2022-02-15  197.689  134.456  162.370  ...  159.254  166.985  198.104\n",
       "2022-02-16  199.216  134.367  160.431  ...  160.421  169.053  196.641\n",
       "2022-02-17  198.730  133.711  157.395  ...  160.588  169.937  194.711\n",
       "2022-02-18  198.289  131.086  158.032  ...  166.117  171.928  197.765\n",
       "\n",
       "[64 rows x 10 columns]"
      ]
     },
     "execution_count": 25,
     "metadata": {},
     "output_type": "execute_result"
    }
   ],
   "source": [
    "# Con los rendimientos simulados, calcular los escenarios de precios respectivos:\n",
    "S0 = closes_aapl.iloc[-1,0]  # Condición inicial del precio a simular\n",
    "sim_closes = S0*np.exp(sim_ret.cumsum())\n",
    "sim_closes"
   ]
  },
  {
   "cell_type": "code",
   "execution_count": 26,
   "metadata": {},
   "outputs": [
    {
     "data": {
      "image/png": "[encoded data removed]",
      "text/plain": [
       "<Figure size 576x432 with 1 Axes>"
      ]
     },
     "metadata": {
      "needs_background": "light"
     },
     "output_type": "display_data"
    }
   ],
   "source": [
    "# visualizamos las simulaciones de precios\n",
    "sim_closes.plot(figsize=(8,6));"
   ]
  },
  {
   "cell_type": "code",
   "execution_count": 30,
   "metadata": {},
   "outputs": [
    {
     "data": {
      "image/png": "[encoded data removed]",
      "text/plain": [
       "<Figure size 576x432 with 1 Axes>"
      ]
     },
     "metadata": {
      "needs_background": "light"
     },
     "output_type": "display_data"
    }
   ],
   "source": [
    "# Se muestran los precios simulados con los precios descargados\n",
    "pd.concat([closes_aapl,sim_closes]).plot(figsize=(8,6));\n"
   ]
  },
  {
   "cell_type": "code",
   "execution_count": 31,
   "metadata": {},
   "outputs": [
    {
     "data": {
      "text/html": [
       "<div>\n",
       "<style scoped>\n",
       "    .dataframe tbody tr th:only-of-type {\n",
       "        vertical-align: middle;\n",
       "    }\n",
       "\n",
       "    .dataframe tbody tr th {\n",
       "        vertical-align: top;\n",
       "    }\n",
       "\n",
       "    .dataframe thead th {\n",
       "        text-align: right;\n",
       "    }\n",
       "</style>\n",
       "<table border=\"1\" class=\"dataframe\">\n",
       "  <thead>\n",
       "    <tr style=\"text-align: right;\">\n",
       "      <th></th>\n",
       "      <th>0</th>\n",
       "      <th>1</th>\n",
       "      <th>2</th>\n",
       "      <th>...</th>\n",
       "      <th>99997</th>\n",
       "      <th>99998</th>\n",
       "      <th>99999</th>\n",
       "    </tr>\n",
       "  </thead>\n",
       "  <tbody>\n",
       "    <tr>\n",
       "      <th>2021-11-23</th>\n",
       "      <td>157.664</td>\n",
       "      <td>153.669</td>\n",
       "      <td>163.508</td>\n",
       "      <td>...</td>\n",
       "      <td>154.317</td>\n",
       "      <td>158.894</td>\n",
       "      <td>160.108</td>\n",
       "    </tr>\n",
       "    <tr>\n",
       "      <th>2021-11-24</th>\n",
       "      <td>153.753</td>\n",
       "      <td>157.505</td>\n",
       "      <td>166.493</td>\n",
       "      <td>...</td>\n",
       "      <td>154.126</td>\n",
       "      <td>163.152</td>\n",
       "      <td>160.205</td>\n",
       "    </tr>\n",
       "    <tr>\n",
       "      <th>2021-11-25</th>\n",
       "      <td>153.521</td>\n",
       "      <td>155.434</td>\n",
       "      <td>163.151</td>\n",
       "      <td>...</td>\n",
       "      <td>149.565</td>\n",
       "      <td>159.095</td>\n",
       "      <td>159.462</td>\n",
       "    </tr>\n",
       "    <tr>\n",
       "      <th>2021-11-26</th>\n",
       "      <td>152.672</td>\n",
       "      <td>154.518</td>\n",
       "      <td>165.475</td>\n",
       "      <td>...</td>\n",
       "      <td>151.707</td>\n",
       "      <td>156.479</td>\n",
       "      <td>163.887</td>\n",
       "    </tr>\n",
       "    <tr>\n",
       "      <th>2021-11-27</th>\n",
       "      <td>153.900</td>\n",
       "      <td>153.068</td>\n",
       "      <td>166.768</td>\n",
       "      <td>...</td>\n",
       "      <td>148.217</td>\n",
       "      <td>157.847</td>\n",
       "      <td>166.710</td>\n",
       "    </tr>\n",
       "    <tr>\n",
       "      <th>...</th>\n",
       "      <td>...</td>\n",
       "      <td>...</td>\n",
       "      <td>...</td>\n",
       "      <td>...</td>\n",
       "      <td>...</td>\n",
       "      <td>...</td>\n",
       "      <td>...</td>\n",
       "    </tr>\n",
       "    <tr>\n",
       "      <th>2022-01-21</th>\n",
       "      <td>158.050</td>\n",
       "      <td>165.239</td>\n",
       "      <td>151.944</td>\n",
       "      <td>...</td>\n",
       "      <td>133.524</td>\n",
       "      <td>194.781</td>\n",
       "      <td>133.303</td>\n",
       "    </tr>\n",
       "    <tr>\n",
       "      <th>2022-01-22</th>\n",
       "      <td>156.203</td>\n",
       "      <td>166.838</td>\n",
       "      <td>153.222</td>\n",
       "      <td>...</td>\n",
       "      <td>138.418</td>\n",
       "      <td>194.115</td>\n",
       "      <td>132.678</td>\n",
       "    </tr>\n",
       "    <tr>\n",
       "      <th>2022-01-23</th>\n",
       "      <td>156.426</td>\n",
       "      <td>164.549</td>\n",
       "      <td>155.184</td>\n",
       "      <td>...</td>\n",
       "      <td>140.200</td>\n",
       "      <td>188.442</td>\n",
       "      <td>134.492</td>\n",
       "    </tr>\n",
       "    <tr>\n",
       "      <th>2022-01-24</th>\n",
       "      <td>155.774</td>\n",
       "      <td>161.964</td>\n",
       "      <td>153.391</td>\n",
       "      <td>...</td>\n",
       "      <td>138.440</td>\n",
       "      <td>186.746</td>\n",
       "      <td>135.595</td>\n",
       "    </tr>\n",
       "    <tr>\n",
       "      <th>2022-01-25</th>\n",
       "      <td>156.249</td>\n",
       "      <td>161.648</td>\n",
       "      <td>152.075</td>\n",
       "      <td>...</td>\n",
       "      <td>136.647</td>\n",
       "      <td>182.851</td>\n",
       "      <td>135.304</td>\n",
       "    </tr>\n",
       "  </tbody>\n",
       "</table>\n",
       "<p>64 rows × 100000 columns</p>\n",
       "</div>"
      ],
      "text/plain": [
       "              0        1        2      ...    99997    99998    99999\n",
       "2021-11-23  157.664  153.669  163.508  ...  154.317  158.894  160.108\n",
       "2021-11-24  153.753  157.505  166.493  ...  154.126  163.152  160.205\n",
       "2021-11-25  153.521  155.434  163.151  ...  149.565  159.095  159.462\n",
       "2021-11-26  152.672  154.518  165.475  ...  151.707  156.479  163.887\n",
       "2021-11-27  153.900  153.068  166.768  ...  148.217  157.847  166.710\n",
       "...             ...      ...      ...  ...      ...      ...      ...\n",
       "2022-01-21  158.050  165.239  151.944  ...  133.524  194.781  133.303\n",
       "2022-01-22  156.203  166.838  153.222  ...  138.418  194.115  132.678\n",
       "2022-01-23  156.426  164.549  155.184  ...  140.200  188.442  134.492\n",
       "2022-01-24  155.774  161.964  153.391  ...  138.440  186.746  135.595\n",
       "2022-01-25  156.249  161.648  152.075  ...  136.647  182.851  135.304\n",
       "\n",
       "[64 rows x 100000 columns]"
      ]
     },
     "execution_count": 31,
     "metadata": {},
     "output_type": "execute_result"
    }
   ],
   "source": [
    "Hoy = date.today()\n",
    "nscen = 100000\n",
    "dates = pd.date_range(start= Hoy, periods = ndays)\n",
    "ndays = len(dates)\n",
    "S0 = closes_aapl.iloc[-1,0]  # Condición inicial del precio a simular\n",
    "\n",
    "sim_ret = pd.DataFrame(sigma*np.random.randn(ndays,nscen)+r,index=dates)\n",
    "sim_closes = S0*np.exp(sim_ret.cumsum())\n",
    "#strike = pd.DataFrame({'Strike':K*np.ones(ndays)}, index=dates)\n",
    "#simul = pd.concat([closes_aapl.T,strike.T,sim_closes.T]).T\n",
    "#simul.plot(figsize=(8,6),legend=False);\n",
    "sim_closes"
   ]
  },
  {
   "cell_type": "code",
   "execution_count": 32,
   "metadata": {},
   "outputs": [
    {
     "data": {
      "text/html": [
       "<div>\n",
       "<style scoped>\n",
       "    .dataframe tbody tr th:only-of-type {\n",
       "        vertical-align: middle;\n",
       "    }\n",
       "\n",
       "    .dataframe tbody tr th {\n",
       "        vertical-align: top;\n",
       "    }\n",
       "\n",
       "    .dataframe thead th {\n",
       "        text-align: right;\n",
       "    }\n",
       "</style>\n",
       "<table border=\"1\" class=\"dataframe\">\n",
       "  <thead>\n",
       "    <tr style=\"text-align: right;\">\n",
       "      <th></th>\n",
       "      <th>0</th>\n",
       "      <th>1</th>\n",
       "      <th>2</th>\n",
       "      <th>...</th>\n",
       "      <th>99997</th>\n",
       "      <th>99998</th>\n",
       "      <th>99999</th>\n",
       "    </tr>\n",
       "  </thead>\n",
       "  <tbody>\n",
       "    <tr>\n",
       "      <th>2021-11-23</th>\n",
       "      <td>161.410</td>\n",
       "      <td>161.410</td>\n",
       "      <td>161.410</td>\n",
       "      <td>...</td>\n",
       "      <td>161.410</td>\n",
       "      <td>161.410</td>\n",
       "      <td>161.410</td>\n",
       "    </tr>\n",
       "    <tr>\n",
       "      <th>2021-11-24</th>\n",
       "      <td>153.753</td>\n",
       "      <td>157.505</td>\n",
       "      <td>166.493</td>\n",
       "      <td>...</td>\n",
       "      <td>154.126</td>\n",
       "      <td>163.152</td>\n",
       "      <td>160.205</td>\n",
       "    </tr>\n",
       "    <tr>\n",
       "      <th>2021-11-25</th>\n",
       "      <td>153.521</td>\n",
       "      <td>155.434</td>\n",
       "      <td>163.151</td>\n",
       "      <td>...</td>\n",
       "      <td>149.565</td>\n",
       "      <td>159.095</td>\n",
       "      <td>159.462</td>\n",
       "    </tr>\n",
       "    <tr>\n",
       "      <th>2021-11-26</th>\n",
       "      <td>152.672</td>\n",
       "      <td>154.518</td>\n",
       "      <td>165.475</td>\n",
       "      <td>...</td>\n",
       "      <td>151.707</td>\n",
       "      <td>156.479</td>\n",
       "      <td>163.887</td>\n",
       "    </tr>\n",
       "    <tr>\n",
       "      <th>2021-11-27</th>\n",
       "      <td>153.900</td>\n",
       "      <td>153.068</td>\n",
       "      <td>166.768</td>\n",
       "      <td>...</td>\n",
       "      <td>148.217</td>\n",
       "      <td>157.847</td>\n",
       "      <td>166.710</td>\n",
       "    </tr>\n",
       "    <tr>\n",
       "      <th>...</th>\n",
       "      <td>...</td>\n",
       "      <td>...</td>\n",
       "      <td>...</td>\n",
       "      <td>...</td>\n",
       "      <td>...</td>\n",
       "      <td>...</td>\n",
       "      <td>...</td>\n",
       "    </tr>\n",
       "    <tr>\n",
       "      <th>2022-01-21</th>\n",
       "      <td>158.050</td>\n",
       "      <td>165.239</td>\n",
       "      <td>151.944</td>\n",
       "      <td>...</td>\n",
       "      <td>133.524</td>\n",
       "      <td>194.781</td>\n",
       "      <td>133.303</td>\n",
       "    </tr>\n",
       "    <tr>\n",
       "      <th>2022-01-22</th>\n",
       "      <td>156.203</td>\n",
       "      <td>166.838</td>\n",
       "      <td>153.222</td>\n",
       "      <td>...</td>\n",
       "      <td>138.418</td>\n",
       "      <td>194.115</td>\n",
       "      <td>132.678</td>\n",
       "    </tr>\n",
       "    <tr>\n",
       "      <th>2022-01-23</th>\n",
       "      <td>156.426</td>\n",
       "      <td>164.549</td>\n",
       "      <td>155.184</td>\n",
       "      <td>...</td>\n",
       "      <td>140.200</td>\n",
       "      <td>188.442</td>\n",
       "      <td>134.492</td>\n",
       "    </tr>\n",
       "    <tr>\n",
       "      <th>2022-01-24</th>\n",
       "      <td>155.774</td>\n",
       "      <td>161.964</td>\n",
       "      <td>153.391</td>\n",
       "      <td>...</td>\n",
       "      <td>138.440</td>\n",
       "      <td>186.746</td>\n",
       "      <td>135.595</td>\n",
       "    </tr>\n",
       "    <tr>\n",
       "      <th>2022-01-25</th>\n",
       "      <td>156.249</td>\n",
       "      <td>161.648</td>\n",
       "      <td>152.075</td>\n",
       "      <td>...</td>\n",
       "      <td>136.647</td>\n",
       "      <td>182.851</td>\n",
       "      <td>135.304</td>\n",
       "    </tr>\n",
       "  </tbody>\n",
       "</table>\n",
       "<p>64 rows × 100000 columns</p>\n",
       "</div>"
      ],
      "text/plain": [
       "              0        1        2      ...    99997    99998    99999\n",
       "2021-11-23  161.410  161.410  161.410  ...  161.410  161.410  161.410\n",
       "2021-11-24  153.753  157.505  166.493  ...  154.126  163.152  160.205\n",
       "2021-11-25  153.521  155.434  163.151  ...  149.565  159.095  159.462\n",
       "2021-11-26  152.672  154.518  165.475  ...  151.707  156.479  163.887\n",
       "2021-11-27  153.900  153.068  166.768  ...  148.217  157.847  166.710\n",
       "...             ...      ...      ...  ...      ...      ...      ...\n",
       "2022-01-21  158.050  165.239  151.944  ...  133.524  194.781  133.303\n",
       "2022-01-22  156.203  166.838  153.222  ...  138.418  194.115  132.678\n",
       "2022-01-23  156.426  164.549  155.184  ...  140.200  188.442  134.492\n",
       "2022-01-24  155.774  161.964  153.391  ...  138.440  186.746  135.595\n",
       "2022-01-25  156.249  161.648  152.075  ...  136.647  182.851  135.304\n",
       "\n",
       "[64 rows x 100000 columns]"
      ]
     },
     "execution_count": 32,
     "metadata": {},
     "output_type": "execute_result"
    }
   ],
   "source": [
    "sim_closes.iloc[0, :] = closes_aapl.iloc[-1]\n",
    "sim_closes"
   ]
  },
  {
   "cell_type": "code",
   "execution_count": 33,
   "metadata": {},
   "outputs": [
    {
     "data": {
      "image/png": "[encoded data removed]",
      "text/plain": [
       "<Figure size 432x288 with 1 Axes>"
      ]
     },
     "metadata": {
      "needs_background": "light"
     },
     "output_type": "display_data"
    }
   ],
   "source": [
    "# se calcula la prima que se tiene que pagar para el put\n",
    "put = pd.DataFrame({'Prima':np.exp(-r*ndays) \\\n",
    "              *np.fmax(K-sim_closes, 0).mean(axis=1)}, index=dates)\n",
    "put.plot();\n"
   ]
  },
  {
   "cell_type": "code",
   "execution_count": 34,
   "metadata": {},
   "outputs": [
    {
     "data": {
      "text/plain": [
       "Prima    17.044\n",
       "Name: 2022-01-25 00:00:00, dtype: float64"
      ]
     },
     "execution_count": 34,
     "metadata": {},
     "output_type": "execute_result"
    }
   ],
   "source": [
    "#La valuación de la opción es\n",
    "put.iloc[-1]"
   ]
  },
  {
   "cell_type": "code",
   "execution_count": 35,
   "metadata": {},
   "outputs": [
    {
     "name": "stdout",
     "output_type": "stream",
     "text": [
      "(16.845882030713238, 17.241911605074687)\n",
      "(16.84588581030287, 17.241907825485054)\n"
     ]
    }
   ],
   "source": [
    "# Intervalo de confianza del 99%\n",
    "confianza = 0.99\n",
    "sigma_est = sim_closes.iloc[-1].sem()\n",
    "mean_est = put.iloc[-1].Prima\n",
    "i1 = st.t.interval(confianza,nscen-1, loc=mean_est, scale=sigma_est)\n",
    "i2 = st.norm.interval(confianza, loc=mean_est, scale=sigma_est)\n",
    "print(i1)\n",
    "print(i2)"
   ]
  },
  {
   "cell_type": "markdown",
   "metadata": {},
   "source": [
    "### Precios simulados usando técnicas de reducción de varianza"
   ]
  },
  {
   "cell_type": "code",
   "execution_count": 36,
   "metadata": {},
   "outputs": [
    {
     "data": {
      "image/png": "[encoded data removed]",
      "text/plain": [
       "<Figure size 432x288 with 1 Axes>"
      ]
     },
     "metadata": {
      "needs_background": "light"
     },
     "output_type": "display_data"
    }
   ],
   "source": [
    "# Usando muestreo estratificado----> #estratros = nscen\n",
    "U = (np.arange(0,nscen)+np.random.rand(ndays,nscen))/nscen\n",
    "Z = st.norm.ppf(U)\n",
    "\n",
    "sim_ret2 = pd.DataFrame(sigma*Z+r,index=dates)\n",
    "sim_closes2 = S0*np.exp(sim_ret.cumsum())\n",
    "\n",
    "# Función de pago\n",
    "strike = pd.DataFrame(K*np.ones([ndays,nscen]), index=dates)\n",
    "put = pd.DataFrame({'Prima':np.exp(-r*ndays) \\\n",
    "              *np.fmax(strike-sim_closes2,np.zeros([ndays,nscen])).T.mean()}, index=dates)\n",
    "put.plot();"
   ]
  },
  {
   "cell_type": "code",
   "execution_count": 37,
   "metadata": {},
   "outputs": [
    {
     "data": {
      "text/plain": [
       "Prima    17.044\n",
       "Name: 2022-01-25 00:00:00, dtype: float64"
      ]
     },
     "execution_count": 37,
     "metadata": {},
     "output_type": "execute_result"
    }
   ],
   "source": [
    "#La valuación de la opción es:\n",
    "put.iloc[-1]"
   ]
  },
  {
   "cell_type": "code",
   "execution_count": 38,
   "metadata": {},
   "outputs": [
    {
     "name": "stdout",
     "output_type": "stream",
     "text": [
      "(16.845882030713238, 17.241911605074687)\n",
      "(16.845882030713238, 17.241911605074687)\n"
     ]
    }
   ],
   "source": [
    "# intervalo de confianza 99%\n",
    "confianza = 0.99\n",
    "sigma_est = sim_closes2.iloc[-1].sem()\n",
    "mean_est = put.iloc[-1].Prima\n",
    "i1 = st.t.interval(confianza,nscen-1, loc=mean_est, scale=sigma_est)\n",
    "i2 = st.norm.interval(confianza, loc=mean_est, scale=sigma_est)\n",
    "print(i1)\n",
    "print(i1)\n"
   ]
  },
  {
   "cell_type": "markdown",
   "metadata": {},
   "source": [
    "### Análisis de la distribución de los rendimientos"
   ]
  },
  {
   "cell_type": "code",
   "execution_count": 39,
   "metadata": {},
   "outputs": [
    {
     "data": {
      "image/png": "[encoded data removed]",
      "text/plain": [
       "<Figure size 432x288 with 1 Axes>"
      ]
     },
     "metadata": {
      "needs_background": "light"
     },
     "output_type": "display_data"
    }
   ],
   "source": [
    "# ajustando norm\n",
    "ren = calc_daily_ret(closes_aapl) # rendimientos \n",
    "y,x,des = plt.hist(ren['AAPL'],bins=50,density=True,label='Histograma rendimientos')\n",
    "\n",
    "mu_fit,sd_fit = st.norm.fit(ren) # Se ajustan los parámetros de una normal\n",
    "# Valores máximo y mínimo de los rendiemientos a generar\n",
    "ren_max = max(x);ren_min = min(x)\n",
    "# Vector de rendimientos generados\n",
    "ren_gen = np.arange(ren_min,ren_max,0.001)\n",
    "# Generación de la normal ajustado con los parámetros encontrados\n",
    "curve_fit = st.norm.pdf(ren_gen,loc=mu_fit,scale=sd_fit)\n",
    "plt.plot(ren_gen,curve_fit,label='Distribución ajustada')\n",
    "plt.legend()\n",
    "plt.show()\n"
   ]
  },
  {
   "cell_type": "code",
   "execution_count": 40,
   "metadata": {},
   "outputs": [
    {
     "data": {
      "image/png": "[encoded data removed]",
      "text/plain": [
       "<Figure size 432x288 with 1 Axes>"
      ]
     },
     "metadata": {
      "needs_background": "light"
     },
     "output_type": "display_data"
    }
   ],
   "source": [
    "# ajustando t\n",
    "ren = calc_daily_ret(closes_aapl) # rendimientos \n",
    "y,x,des = plt.hist(ren['AAPL'],bins=50,density=True,label='Histograma rendimientos')\n",
    "\n",
    "dof,mu_fit,sd_fit = st.t.fit(ren.values) # Se ajustan los parámetros de una normal\n",
    "# Valores máximo y mínimo de los rendiemientos a generar\n",
    "# ren_max = max(x);ren_min = min(x)\n",
    "# Vector de rendimientos generados\n",
    "ren_gen = np.arange(ren_min,ren_max,0.001)\n",
    "# Generación de la normal ajustado con los parámetros encontrados\n",
    "curve_fit = st.t.pdf(ren_gen, df=dof,loc=mu_fit,scale=sd_fit)\n",
    "plt.plot(ren_gen,curve_fit,label='Distribución ajustada')\n",
    "plt.legend()\n",
    "plt.show()"
   ]
  },
  {
   "cell_type": "code",
   "execution_count": 41,
   "metadata": {},
   "outputs": [
    {
     "data": {
      "image/png": "[encoded data removed]",
      "text/plain": [
       "<Figure size 432x288 with 1 Axes>"
      ]
     },
     "metadata": {
      "needs_background": "light"
     },
     "output_type": "display_data"
    }
   ],
   "source": [
    "st.probplot(ren['AAPL'],sparams= dof, dist='t', plot=plt);"
   ]
  },
  {
   "cell_type": "markdown",
   "metadata": {},
   "source": [
    "### Valuación usando simulación: uso del histograma de rendimientos"
   ]
  },
  {
   "cell_type": "code",
   "execution_count": 42,
   "metadata": {},
   "outputs": [],
   "source": [
    "# cantidad de días y número de escenarios de simulación\n",
    "ndays = 109 \n",
    "nscen = 10"
   ]
  },
  {
   "cell_type": "code",
   "execution_count": 43,
   "metadata": {},
   "outputs": [],
   "source": [
    "#las probabilidades de ocurrencia, lo que se llamó como variable y\n",
    "prob = y/np.sum(y)\n",
    "values = x[1:]"
   ]
  },
  {
   "cell_type": "code",
   "execution_count": 44,
   "metadata": {},
   "outputs": [
    {
     "data": {
      "text/html": [
       "<div>\n",
       "<style scoped>\n",
       "    .dataframe tbody tr th:only-of-type {\n",
       "        vertical-align: middle;\n",
       "    }\n",
       "\n",
       "    .dataframe tbody tr th {\n",
       "        vertical-align: top;\n",
       "    }\n",
       "\n",
       "    .dataframe thead th {\n",
       "        text-align: right;\n",
       "    }\n",
       "</style>\n",
       "<table border=\"1\" class=\"dataframe\">\n",
       "  <thead>\n",
       "    <tr style=\"text-align: right;\">\n",
       "      <th></th>\n",
       "      <th>0</th>\n",
       "      <th>1</th>\n",
       "      <th>2</th>\n",
       "      <th>...</th>\n",
       "      <th>7</th>\n",
       "      <th>8</th>\n",
       "      <th>9</th>\n",
       "    </tr>\n",
       "  </thead>\n",
       "  <tbody>\n",
       "    <tr>\n",
       "      <th>2021-11-23</th>\n",
       "      <td>-0.012</td>\n",
       "      <td>0.058</td>\n",
       "      <td>0.018</td>\n",
       "      <td>...</td>\n",
       "      <td>-0.007</td>\n",
       "      <td>0.008</td>\n",
       "      <td>0.038</td>\n",
       "    </tr>\n",
       "    <tr>\n",
       "      <th>2021-11-24</th>\n",
       "      <td>0.008</td>\n",
       "      <td>-0.022</td>\n",
       "      <td>-0.017</td>\n",
       "      <td>...</td>\n",
       "      <td>0.063</td>\n",
       "      <td>-0.007</td>\n",
       "      <td>0.003</td>\n",
       "    </tr>\n",
       "    <tr>\n",
       "      <th>2021-11-25</th>\n",
       "      <td>0.018</td>\n",
       "      <td>0.008</td>\n",
       "      <td>0.003</td>\n",
       "      <td>...</td>\n",
       "      <td>0.008</td>\n",
       "      <td>0.003</td>\n",
       "      <td>-0.007</td>\n",
       "    </tr>\n",
       "    <tr>\n",
       "      <th>2021-11-26</th>\n",
       "      <td>0.018</td>\n",
       "      <td>0.038</td>\n",
       "      <td>-0.002</td>\n",
       "      <td>...</td>\n",
       "      <td>0.018</td>\n",
       "      <td>-0.027</td>\n",
       "      <td>0.018</td>\n",
       "    </tr>\n",
       "    <tr>\n",
       "      <th>2021-11-27</th>\n",
       "      <td>0.013</td>\n",
       "      <td>-0.022</td>\n",
       "      <td>-0.007</td>\n",
       "      <td>...</td>\n",
       "      <td>0.003</td>\n",
       "      <td>0.003</td>\n",
       "      <td>0.003</td>\n",
       "    </tr>\n",
       "    <tr>\n",
       "      <th>...</th>\n",
       "      <td>...</td>\n",
       "      <td>...</td>\n",
       "      <td>...</td>\n",
       "      <td>...</td>\n",
       "      <td>...</td>\n",
       "      <td>...</td>\n",
       "      <td>...</td>\n",
       "    </tr>\n",
       "    <tr>\n",
       "      <th>2022-03-07</th>\n",
       "      <td>0.008</td>\n",
       "      <td>0.018</td>\n",
       "      <td>-0.012</td>\n",
       "      <td>...</td>\n",
       "      <td>0.003</td>\n",
       "      <td>0.018</td>\n",
       "      <td>0.008</td>\n",
       "    </tr>\n",
       "    <tr>\n",
       "      <th>2022-03-08</th>\n",
       "      <td>-0.002</td>\n",
       "      <td>0.013</td>\n",
       "      <td>0.003</td>\n",
       "      <td>...</td>\n",
       "      <td>0.028</td>\n",
       "      <td>-0.007</td>\n",
       "      <td>0.003</td>\n",
       "    </tr>\n",
       "    <tr>\n",
       "      <th>2022-03-09</th>\n",
       "      <td>0.103</td>\n",
       "      <td>0.018</td>\n",
       "      <td>-0.012</td>\n",
       "      <td>...</td>\n",
       "      <td>0.008</td>\n",
       "      <td>0.008</td>\n",
       "      <td>0.003</td>\n",
       "    </tr>\n",
       "    <tr>\n",
       "      <th>2022-03-10</th>\n",
       "      <td>0.003</td>\n",
       "      <td>0.013</td>\n",
       "      <td>0.008</td>\n",
       "      <td>...</td>\n",
       "      <td>0.003</td>\n",
       "      <td>0.013</td>\n",
       "      <td>0.008</td>\n",
       "    </tr>\n",
       "    <tr>\n",
       "      <th>2022-03-11</th>\n",
       "      <td>0.023</td>\n",
       "      <td>0.003</td>\n",
       "      <td>0.008</td>\n",
       "      <td>...</td>\n",
       "      <td>-0.002</td>\n",
       "      <td>-0.022</td>\n",
       "      <td>-0.002</td>\n",
       "    </tr>\n",
       "  </tbody>\n",
       "</table>\n",
       "<p>109 rows × 10 columns</p>\n",
       "</div>"
      ],
      "text/plain": [
       "                0      1      2  ...      7      8      9\n",
       "2021-11-23 -0.012  0.058  0.018  ... -0.007  0.008  0.038\n",
       "2021-11-24  0.008 -0.022 -0.017  ...  0.063 -0.007  0.003\n",
       "2021-11-25  0.018  0.008  0.003  ...  0.008  0.003 -0.007\n",
       "2021-11-26  0.018  0.038 -0.002  ...  0.018 -0.027  0.018\n",
       "2021-11-27  0.013 -0.022 -0.007  ...  0.003  0.003  0.003\n",
       "...           ...    ...    ...  ...    ...    ...    ...\n",
       "2022-03-07  0.008  0.018 -0.012  ...  0.003  0.018  0.008\n",
       "2022-03-08 -0.002  0.013  0.003  ...  0.028 -0.007  0.003\n",
       "2022-03-09  0.103  0.018 -0.012  ...  0.008  0.008  0.003\n",
       "2022-03-10  0.003  0.013  0.008  ...  0.003  0.013  0.008\n",
       "2022-03-11  0.023  0.003  0.008  ... -0.002 -0.022 -0.002\n",
       "\n",
       "[109 rows x 10 columns]"
      ]
     },
     "execution_count": 44,
     "metadata": {},
     "output_type": "execute_result"
    }
   ],
   "source": [
    "#generamos los números aleatorios correspondientes a los rendimientos (tantos como días por número de escenarios).\n",
    "ret = np.random.choice(values, ndays*nscen, p=prob)\n",
    "dates = pd.date_range(start=Hoy,periods=ndays)\n",
    "sim_ret_hist = pd.DataFrame(ret.reshape((ndays,nscen)),index=dates)\n",
    "sim_ret_hist"
   ]
  },
  {
   "cell_type": "code",
   "execution_count": 45,
   "metadata": {},
   "outputs": [
    {
     "data": {
      "text/html": [
       "<div>\n",
       "<style scoped>\n",
       "    .dataframe tbody tr th:only-of-type {\n",
       "        vertical-align: middle;\n",
       "    }\n",
       "\n",
       "    .dataframe tbody tr th {\n",
       "        vertical-align: top;\n",
       "    }\n",
       "\n",
       "    .dataframe thead th {\n",
       "        text-align: right;\n",
       "    }\n",
       "</style>\n",
       "<table border=\"1\" class=\"dataframe\">\n",
       "  <thead>\n",
       "    <tr style=\"text-align: right;\">\n",
       "      <th></th>\n",
       "      <th>0</th>\n",
       "      <th>1</th>\n",
       "      <th>2</th>\n",
       "      <th>...</th>\n",
       "      <th>7</th>\n",
       "      <th>8</th>\n",
       "      <th>9</th>\n",
       "    </tr>\n",
       "  </thead>\n",
       "  <tbody>\n",
       "    <tr>\n",
       "      <th>2021-11-23</th>\n",
       "      <td>159.441</td>\n",
       "      <td>171.043</td>\n",
       "      <td>164.314</td>\n",
       "      <td>...</td>\n",
       "      <td>160.243</td>\n",
       "      <td>162.673</td>\n",
       "      <td>167.644</td>\n",
       "    </tr>\n",
       "    <tr>\n",
       "      <th>2021-11-24</th>\n",
       "      <td>160.688</td>\n",
       "      <td>167.269</td>\n",
       "      <td>161.497</td>\n",
       "      <td>...</td>\n",
       "      <td>170.660</td>\n",
       "      <td>161.497</td>\n",
       "      <td>168.111</td>\n",
       "    </tr>\n",
       "    <tr>\n",
       "      <th>2021-11-25</th>\n",
       "      <td>163.579</td>\n",
       "      <td>168.578</td>\n",
       "      <td>161.946</td>\n",
       "      <td>...</td>\n",
       "      <td>171.996</td>\n",
       "      <td>161.946</td>\n",
       "      <td>166.895</td>\n",
       "    </tr>\n",
       "    <tr>\n",
       "      <th>2021-11-26</th>\n",
       "      <td>166.521</td>\n",
       "      <td>175.089</td>\n",
       "      <td>161.583</td>\n",
       "      <td>...</td>\n",
       "      <td>175.089</td>\n",
       "      <td>157.580</td>\n",
       "      <td>169.897</td>\n",
       "    </tr>\n",
       "    <tr>\n",
       "      <th>2021-11-27</th>\n",
       "      <td>168.668</td>\n",
       "      <td>171.226</td>\n",
       "      <td>160.415</td>\n",
       "      <td>...</td>\n",
       "      <td>175.576</td>\n",
       "      <td>158.018</td>\n",
       "      <td>170.370</td>\n",
       "    </tr>\n",
       "    <tr>\n",
       "      <th>...</th>\n",
       "      <td>...</td>\n",
       "      <td>...</td>\n",
       "      <td>...</td>\n",
       "      <td>...</td>\n",
       "      <td>...</td>\n",
       "      <td>...</td>\n",
       "      <td>...</td>\n",
       "    </tr>\n",
       "    <tr>\n",
       "      <th>2022-03-07</th>\n",
       "      <td>192.501</td>\n",
       "      <td>174.998</td>\n",
       "      <td>251.143</td>\n",
       "      <td>...</td>\n",
       "      <td>221.537</td>\n",
       "      <td>269.418</td>\n",
       "      <td>327.648</td>\n",
       "    </tr>\n",
       "    <tr>\n",
       "      <th>2022-03-08</th>\n",
       "      <td>192.070</td>\n",
       "      <td>177.254</td>\n",
       "      <td>251.841</td>\n",
       "      <td>...</td>\n",
       "      <td>227.796</td>\n",
       "      <td>267.469</td>\n",
       "      <td>328.559</td>\n",
       "    </tr>\n",
       "    <tr>\n",
       "      <th>2022-03-09</th>\n",
       "      <td>212.935</td>\n",
       "      <td>180.443</td>\n",
       "      <td>248.768</td>\n",
       "      <td>...</td>\n",
       "      <td>229.579</td>\n",
       "      <td>269.562</td>\n",
       "      <td>329.472</td>\n",
       "    </tr>\n",
       "    <tr>\n",
       "      <th>2022-03-10</th>\n",
       "      <td>213.527</td>\n",
       "      <td>182.769</td>\n",
       "      <td>250.715</td>\n",
       "      <td>...</td>\n",
       "      <td>230.217</td>\n",
       "      <td>273.038</td>\n",
       "      <td>332.050</td>\n",
       "    </tr>\n",
       "    <tr>\n",
       "      <th>2022-03-11</th>\n",
       "      <td>218.461</td>\n",
       "      <td>183.278</td>\n",
       "      <td>252.677</td>\n",
       "      <td>...</td>\n",
       "      <td>229.702</td>\n",
       "      <td>267.014</td>\n",
       "      <td>331.307</td>\n",
       "    </tr>\n",
       "  </tbody>\n",
       "</table>\n",
       "<p>109 rows × 10 columns</p>\n",
       "</div>"
      ],
      "text/plain": [
       "                  0        1        2  ...        7        8        9\n",
       "2021-11-23  159.441  171.043  164.314  ...  160.243  162.673  167.644\n",
       "2021-11-24  160.688  167.269  161.497  ...  170.660  161.497  168.111\n",
       "2021-11-25  163.579  168.578  161.946  ...  171.996  161.946  166.895\n",
       "2021-11-26  166.521  175.089  161.583  ...  175.089  157.580  169.897\n",
       "2021-11-27  168.668  171.226  160.415  ...  175.576  158.018  170.370\n",
       "...             ...      ...      ...  ...      ...      ...      ...\n",
       "2022-03-07  192.501  174.998  251.143  ...  221.537  269.418  327.648\n",
       "2022-03-08  192.070  177.254  251.841  ...  227.796  267.469  328.559\n",
       "2022-03-09  212.935  180.443  248.768  ...  229.579  269.562  329.472\n",
       "2022-03-10  213.527  182.769  250.715  ...  230.217  273.038  332.050\n",
       "2022-03-11  218.461  183.278  252.677  ...  229.702  267.014  331.307\n",
       "\n",
       "[109 rows x 10 columns]"
      ]
     },
     "execution_count": 45,
     "metadata": {},
     "output_type": "execute_result"
    }
   ],
   "source": [
    "sim_closes_hist = (closes_aapl.iloc[-1,0])*np.exp(sim_ret_hist.cumsum())\n",
    "sim_closes_hist"
   ]
  },
  {
   "cell_type": "code",
   "execution_count": 46,
   "metadata": {},
   "outputs": [
    {
     "data": {
      "image/png": "[encoded data removed]",
      "text/plain": [
       "<Figure size 576x432 with 1 Axes>"
      ]
     },
     "metadata": {
      "needs_background": "light"
     },
     "output_type": "display_data"
    }
   ],
   "source": [
    "sim_closes_hist.plot(figsize=(8,6),legend=False);"
   ]
  },
  {
   "cell_type": "code",
   "execution_count": 47,
   "metadata": {},
   "outputs": [
    {
     "data": {
      "text/plain": [
       "Text(0.5, 1.0, 'Simulación usando el histograma de los rendimientos')"
      ]
     },
     "execution_count": 47,
     "metadata": {},
     "output_type": "execute_result"
    },
    {
     "data": {
      "image/png": "[encoded data removed]",
      "text/plain": [
       "<Figure size 576x432 with 1 Axes>"
      ]
     },
     "metadata": {
      "needs_background": "light"
     },
     "output_type": "display_data"
    }
   ],
   "source": [
    "pd.concat([closes_aapl,sim_closes_hist]).plot(figsize=(8,6),legend=False);\n",
    "plt.title('Simulación usando el histograma de los rendimientos')"
   ]
  },
  {
   "cell_type": "code",
   "execution_count": 48,
   "metadata": {},
   "outputs": [],
   "source": [
    "ndays = 109\n",
    "nscen = 10000\n",
    "freq, values = np.histogram(ret_aapl+r-mu, bins=2000)\n",
    "prob = freq/np.sum(freq)\n",
    "ret=np.random.choice(values[1:],ndays*nscen,p=prob)\n",
    "dates=pd.date_range('2018-10-29',periods=ndays)\n",
    "sim_ret_hist = pd.DataFrame(ret.reshape((ndays,nscen)),index=dates)\n",
    "sim_closes_hist = (closes_aapl.iloc[-1,0])*np.exp(sim_ret_hist.cumsum())"
   ]
  },
  {
   "cell_type": "code",
   "execution_count": 49,
   "metadata": {},
   "outputs": [
    {
     "data": {
      "image/png": "[encoded data removed]",
      "text/plain": [
       "<Figure size 432x288 with 1 Axes>"
      ]
     },
     "metadata": {
      "needs_background": "light"
     },
     "output_type": "display_data"
    }
   ],
   "source": [
    "strike = pd.DataFrame(K*np.ones(ndays*nscen).reshape((ndays,nscen)), index=dates)\n",
    "put_hist = pd.DataFrame({'Prima':np.exp(-r*ndays)*np.fmax(strike-sim_closes_hist,np.zeros(ndays*nscen).reshape((ndays,nscen))).T.mean()}, index=dates)\n",
    "put_hist.plot();"
   ]
  },
  {
   "cell_type": "code",
   "execution_count": 50,
   "metadata": {},
   "outputs": [
    {
     "data": {
      "text/plain": [
       "Prima    18.182\n",
       "Name: 2019-02-14 00:00:00, dtype: float64"
      ]
     },
     "execution_count": 50,
     "metadata": {},
     "output_type": "execute_result"
    }
   ],
   "source": [
    "put_hist.iloc[-1]"
   ]
  },
  {
   "cell_type": "code",
   "execution_count": 51,
   "metadata": {},
   "outputs": [
    {
     "name": "stdout",
     "output_type": "stream",
     "text": [
      "(17.54896712033981, 18.814639213799396)\n",
      "(17.54896712033981, 18.814639213799396)\n"
     ]
    }
   ],
   "source": [
    "confianza = 0.95\n",
    "sigma_est = sim_closes_hist.iloc[-1].sem()\n",
    "mean_est = put_hist.iloc[-1].Prima\n",
    "i1 = st.t.interval(confianza,nscen-1, loc=mean_est, scale=sigma_est)\n",
    "i2 = st.norm.interval(confianza, loc=mean_est, scale=sigma_est)\n",
    "print(i1)\n",
    "print(i1)\n"
   ]
  },
  {
   "cell_type": "markdown",
   "metadata": {},
   "source": [
    "Para la prima de la opción de Apple tenemos varias opciones ya que lo calculamos de diferentes maneras:\n",
    " - Valuación usando simulación: uso del histograma de rendimientos -> 18.182\n",
    " - Rendimiento Logaritmico -> 18.182\n",
    " - Valuación usando simulación: modelo normal para los rendimientos -> 17.044\n",
    " - Precios simulados usando técnicas de reducción de varianza -> 17.044\n",
    "\n",
    "Concluimos que se debería de tomar 17.004 como la prima. Como se usó un intervalo de confianza del 99% entonces los resultados son aceptables."
   ]
  },
  {
   "cell_type": "markdown",
   "metadata": {},
   "source": [
    "## Resultados teoricos del método de valuación de Black-Scholes"
   ]
  },
  {
   "cell_type": "code",
   "execution_count": 52,
   "metadata": {},
   "outputs": [],
   "source": [
    "Hoy = date.today()\n",
    "\n",
    "dates = pd.date_range(start= Hoy, periods = ndays, freq='B')\n",
    "\n",
    "ndays = len(dates)\n",
    "nscen = 100000\n",
    "\n",
    "S0 = closes_aapl.iloc[-1]  \n",
    "sim_ret = pd.DataFrame(sigma*np.random.randn(ndays,nscen)+r,index=dates)\n",
    "sim_closes = S0[0]*np.exp(sim_ret.cumsum())"
   ]
  },
  {
   "cell_type": "code",
   "execution_count": 53,
   "metadata": {},
   "outputs": [
    {
     "data": {
      "image/png": "[encoded data removed]",
      "text/plain": [
       "<Figure size 432x288 with 1 Axes>"
      ]
     },
     "metadata": {
      "needs_background": "light"
     },
     "output_type": "display_data"
    }
   ],
   "source": [
    "strike = pd.DataFrame(K*np.ones([ndays,nscen]), index=dates)\n",
    "#put usando black scholes\n",
    "put = pd.DataFrame({'Prima':np.exp(-r*ndays) \\\n",
    "              *np.fmax(strike-sim_closes,0).mean(axis=1)}, index=dates)\n",
    "put.plot();"
   ]
  },
  {
   "cell_type": "code",
   "execution_count": 54,
   "metadata": {},
   "outputs": [
    {
     "data": {
      "text/plain": [
       "Prima    19.021\n",
       "Name: 2022-04-22 00:00:00, dtype: float64"
      ]
     },
     "execution_count": 54,
     "metadata": {},
     "output_type": "execute_result"
    }
   ],
   "source": [
    "put.iloc[-1]"
   ]
  },
  {
   "cell_type": "code",
   "execution_count": 55,
   "metadata": {},
   "outputs": [
    {
     "name": "stdout",
     "output_type": "stream",
     "text": [
      "(18.760430249517107, 19.282414237992434)\n"
     ]
    }
   ],
   "source": [
    "confianza = 0.99\n",
    "sigma_est = sim_closes.iloc[-1].sem()\n",
    "mean_est = put.iloc[-1].Prima\n",
    "i2 = st.norm.interval(confianza, loc=mean_est, scale=sigma_est)\n",
    "print(i2)"
   ]
  },
  {
   "cell_type": "markdown",
   "metadata": {},
   "source": [
    "Con un nivel de confianza de 0.99 obtuvimos que la prima deberia de ser 19.021 con el metodo de los resultados teoricos del black scholes.\n",
    "\n",
    "Podemos concluir que la prima para nuestra opción puede estar en el rango de 17.044 y 19.2824."
   ]
  },
  {
   "cell_type": "code",
   "execution_count": null,
   "metadata": {},
   "outputs": [],
   "source": []
  }
 ],
 "metadata": {
  "kernelspec": {
   "display_name": "Python 3 (ipykernel)",
   "language": "python",
   "name": "python3"
  },
  "language_info": {
   "codemirror_mode": {
    "name": "ipython",
    "version": 3
   },
   "file_extension": ".py",
   "mimetype": "text/x-python",
   "name": "python",
   "nbconvert_exporter": "python",
   "pygments_lexer": "ipython3",
   "version": "3.8.12"
  }
 },
 "nbformat": 4,
 "nbformat_minor": 2
}
